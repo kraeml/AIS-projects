{
 "cells": [
  {
   "cell_type": "markdown",
   "metadata": {},
   "source": [
    "# Modular mit Ansible Rollen\n",
    "\n",
    "Würde man seine Infrastruktur mit Webservern, Datenbanken, Loadbalancer, Queues und so weiter in einem Playbook verwalten, würde dies zu einer riesigen Abfolge von Aktionen führen.\n",
    "\n",
    "Darüber hinaus kann man eine Teil z.B. Datenbanken nicht in anderen Projekten wieter verwenden.\n",
    "\n",
    "Hier kommen Rollen ins Spiel. Zum Beispiel für:\n",
    "\n",
    "* nginx\n",
    "* mysql\n",
    "* mongodb\n",
    "* tomcat\n",
    "* ...\n",
    "\n",
    "Hier zunächst die Rolle für den Webserver nginx."
   ]
  },
  {
   "cell_type": "code",
   "execution_count": 1,
   "metadata": {
    "collapsed": false
   },
   "outputs": [
    {
     "name": "stdout",
     "output_type": "stream",
     "text": [
      "spawn ssh-add /home/vagrant/.ssh/id_rsa\r",
      "\r",
      "\r\n",
      "Enter passphrase for /home/vagrant/.ssh/id_rsa: \r\n",
      "Identity added: /home/vagrant/.ssh/id_rsa (/home/vagrant/.ssh/id_rsa)\r\n"
     ]
    }
   ],
   "source": [
    "eval `ssh-agent -s` > /dev/null\n",
    "./ssh-add-passphrase.sh"
   ]
  },
  {
   "cell_type": "code",
   "execution_count": 2,
   "metadata": {
    "collapsed": false
   },
   "outputs": [
    {
     "name": "stdout",
     "output_type": "stream",
     "text": []
    }
   ],
   "source": [
    "cp -R /vagrant/Kap2_Rollen ./"
   ]
  },
  {
   "cell_type": "code",
   "execution_count": 3,
   "metadata": {
    "collapsed": false
   },
   "outputs": [
    {
     "name": "stdout",
     "output_type": "stream",
     "text": []
    }
   ],
   "source": [
    "cd Kap2_Rollen"
   ]
  },
  {
   "cell_type": "code",
   "execution_count": 4,
   "metadata": {
    "collapsed": false
   },
   "outputs": [
    {
     "name": "stdout",
     "output_type": "stream",
     "text": [
      "/home/vagrant/projects/Kap2_Rollen\r\n"
     ]
    }
   ],
   "source": [
    "pwd"
   ]
  },
  {
   "cell_type": "code",
   "execution_count": 5,
   "metadata": {
    "collapsed": false
   },
   "outputs": [
    {
     "name": "stdout",
     "output_type": "stream",
     "text": [
      ".\r\n",
      "├── customhosts\r\n",
      "├── roles\r\n",
      "│   ├── base\r\n",
      "│   │   └── tasks\r\n",
      "│   │       └── main.yml\r\n",
      "│   └── nginx\r\n",
      "│       ├── files\r\n",
      "│       │   ├── default.conf\r\n",
      "│       │   └── index.html\r\n",
      "│       ├── handlers\r\n",
      "│       │   └── main.yml\r\n",
      "│       ├── meta\r\n",
      "│       │   └── main.yml\r\n",
      "│       └── tasks\r\n",
      "│           ├── configure.yml\r\n",
      "│           ├── install.yml\r\n",
      "│           ├── main.yml\r\n",
      "│           └── service.yml\r\n",
      "├── site.yml\r\n",
      "└── www.yml\r\n",
      "\r\n",
      "8 directories, 12 files\r\n"
     ]
    }
   ],
   "source": [
    "tree"
   ]
  },
  {
   "cell_type": "markdown",
   "metadata": {},
   "source": [
    "Rollen werden u.a. unter dem Ordner roles/ abgelegt. Können aber auch über mehrere Ordner verteilt abgelegt werden wie z.B. /deploy/ansible/roles und /deploy/ansible/community/roles.\n",
    "Dies kann über eine Datei ansible.cfg mit dem Eitrag\n",
    "    \n",
    "    roles_path = /deploy/ansible/roles:/deploy/ansible/community/roles\n",
    "    \n",
    "geschehen.\n",
    "\n",
    "Mehr über Rollen hier: http://docs.ansible.com/ansible/playbooks_roles.html\n",
    "\n",
    "Jede Rolle bekommt einen Ornder mit ihrem Rolen-Namen. Diese Ornder können weitere Unterordner haben. Der wichtigste ist der tasks/ Ordner. Es gibt aber noch weitere wichtige Ordner wie handlers/, templates/, files/, meta/, vars/ uvw. Normalerweise beinhalten alle diese Ornder eine Datei main.yml.\n",
    "\n",
    "Wie können Rollen aufgerufen werden? Schauen wir uns das Playbook site.yml an:"
   ]
  },
  {
   "cell_type": "code",
   "execution_count": 6,
   "metadata": {
    "collapsed": false
   },
   "outputs": [
    {
     "name": "stdout",
     "output_type": "stream",
     "text": [
      "---\r\n",
      "# This is a sitewide playbook\r\n",
      "- include: www.yml\r\n"
     ]
    }
   ],
   "source": [
    "cat site.yml"
   ]
  },
  {
   "cell_type": "markdown",
   "metadata": {},
   "source": [
    "In Playbooks können Teile mit include eingebunden werde. Diese werden im aktuellen Verzeichnis gesucht, wenn kein absoluter/relativer Pfad angegeben wurde.\n",
    "\n",
    "Hier der Inhalt von www.yml"
   ]
  },
  {
   "cell_type": "code",
   "execution_count": 7,
   "metadata": {
    "collapsed": false
   },
   "outputs": [
    {
     "name": "stdout",
     "output_type": "stream",
     "text": [
      "---\r\n",
      "- hosts: www\r\n",
      "  remote_user: vagrant\r\n",
      "  become: yes\r\n",
      "  pre_tasks:\r\n",
      "  - debug: \r\n",
      "      msg: 'I\":\" Beginning to configure web server..'\r\n",
      "\r\n",
      "  roles:\r\n",
      "     - nginx\r\n",
      "\r\n",
      "  post_tasks:\r\n",
      "  - debug:\r\n",
      "      msg: 'I\":\" Done configuring nginx web server...'\r\n"
     ]
    }
   ],
   "source": [
    "cat www.yml"
   ]
  },
  {
   "cell_type": "markdown",
   "metadata": {},
   "source": [
    "Diese Playbook wird nur für die Gruppe www ausgeführt.\n",
    "\n",
    "Der Abschnitt pre_tasks bzw. post_tasks wird vor bzw. nachdem Task Abschnitt ausgeführt.\n",
    "\n",
    "Unser Task Block wird hier durch eine Rolle nginx abgebildet.\n",
    "\n",
    "Schauen wir uns zunächst den Meta (Beschreibung) zu dieser Rolle an."
   ]
  },
  {
   "cell_type": "code",
   "execution_count": 8,
   "metadata": {
    "collapsed": false
   },
   "outputs": [
    {
     "name": "stdout",
     "output_type": "stream",
     "text": [
      "---\r\n",
      "dependencies:\r\n",
      "  - { role: base}\r\n",
      "\r\n"
     ]
    }
   ],
   "source": [
    "cat roles/nginx/meta/main.yml"
   ]
  },
  {
   "cell_type": "markdown",
   "metadata": {},
   "source": [
    "Die Rolle nginx ist Abhängig von der Rolle base. Daher hier die Rolle base."
   ]
  },
  {
   "cell_type": "code",
   "execution_count": 9,
   "metadata": {
    "collapsed": false
   },
   "outputs": [
    {
     "name": "stdout",
     "output_type": "stream",
     "text": [
      "---\r\n",
      "# essential tasks. should run on all nodes\r\n",
      " - name: creating devops group \r\n",
      "   group: name=devops state=present\r\n",
      " - name: create devops user with admin previleges\r\n",
      "   user: name=devops comment=\"Devops User\" uid=2001 group=devops\r\n",
      " - name: install htop package\r\n",
      "   action: apt name=htop state=present update_cache=yes\r\n"
     ]
    }
   ],
   "source": [
    "cat roles/base/tasks/main.yml"
   ]
  },
  {
   "cell_type": "markdown",
   "metadata": {},
   "source": [
    "Hier werden unser User, Gruppen und Grundlegende Pakete installiert.\n",
    "\n",
    "Schauen wir uns die Rolle nginx im Ordner tasks/ näher an."
   ]
  },
  {
   "cell_type": "code",
   "execution_count": 10,
   "metadata": {
    "collapsed": false
   },
   "outputs": [
    {
     "name": "stdout",
     "output_type": "stream",
     "text": [
      "---\r\n",
      "# This is main tasks file for nginx role\r\n",
      " - include: install.yml\r\n",
      " - include: configure.yml\r\n",
      " - include: service.yml\r\n",
      "\r\n",
      " \r\n",
      "---\r\n",
      " - name: add official nginx repository\r\n",
      "   apt_repository: repo='deb http://nginx.org/packages/ubuntu/ lucid nginx'\r\n",
      " - name: install nginx web server and ensure its at the latest version\r\n",
      "   apt: name=nginx state=latest force=yes\r\n",
      "---\r\n",
      " - name: create default site configurations \r\n",
      "   copy: src=default.conf dest=/etc/nginx/conf.d/default.conf mode=0644\r\n",
      "   notify: \r\n",
      "    - restart nginx service\r\n",
      " - name: create home page for default site\r\n",
      "   copy: src=index.html dest=/usr/share/nginx/html/index.html\r\n",
      "\r\n",
      "---\r\n",
      " - name: start nginx service\r\n",
      "   service: name=nginx state=started\r\n"
     ]
    }
   ],
   "source": [
    "cat roles/nginx/tasks/main.yml \\\n",
    "    roles/nginx/tasks/install.yml \\\n",
    "    roles/nginx/tasks/configure.yml \\\n",
    "    roles/nginx/tasks/service.yml"
   ]
  },
  {
   "cell_type": "markdown",
   "metadata": {},
   "source": [
    "Die install.yml sorgt fügt das nginx repro ein und installiert die neuster Version von nginx. Auch wenn diese schon installiert wurde.\n",
    "\n",
    "In der configure.yml wird die Datei default.conf aus dem Ordner files/ der Rolle nginx auf dem entsprechenden Pfad kopiert.\n",
    "\n",
    "ACHTUNG: Das Modul copy schaut im Ordner files/ nach ob die Datei default.conf existiert. Somit sind Rollen unabhängig von ihrer Installation."
   ]
  },
  {
   "cell_type": "code",
   "execution_count": 11,
   "metadata": {
    "collapsed": false
   },
   "outputs": [
    {
     "name": "stdout",
     "output_type": "stream",
     "text": [
      "server {\r\n",
      "    listen       80;\r\n",
      "    server_name  localhost;\r\n",
      "\r\n",
      "    location / {\r\n",
      "        root   /usr/share/nginx/html;\r\n",
      "        index  index.html;\r\n",
      "    }\r\n",
      "}\r\n"
     ]
    }
   ],
   "source": [
    "cat roles/nginx/files/default.conf"
   ]
  },
  {
   "cell_type": "code",
   "execution_count": 12,
   "metadata": {
    "collapsed": false
   },
   "outputs": [
    {
     "name": "stdout",
     "output_type": "stream",
     "text": [
      "<html>\r\n",
      "  <body>\r\n",
      "    <h1>Ole Ole Ole </h1>\r\n",
      "    <p> Welcome to FIFA World Cup News Portal</p>\r\n",
      "   </body>\r\n",
      "</html>\r\n"
     ]
    }
   ],
   "source": [
    "cat roles/nginx/files/index.html"
   ]
  },
  {
   "cell_type": "markdown",
   "metadata": {},
   "source": [
    "In der Datei configure.yml wird der Handler \"restart nginx serice\" aufgerufen. Dieser wird über den Ordner handlers/ in der main.yml gesucht und gefunden.\n",
    "\n",
    "Mehr hierzu unter: http://docs.ansible.com/ansible/playbooks_intro.html#handlers-running-operations-on-change"
   ]
  },
  {
   "cell_type": "code",
   "execution_count": 13,
   "metadata": {
    "collapsed": false
   },
   "outputs": [
    {
     "name": "stdout",
     "output_type": "stream",
     "text": [
      "---\r\n",
      "- name: restart nginx service\r\n",
      "  service: name=nginx state=restarted\r\n",
      "\r\n"
     ]
    }
   ],
   "source": [
    "cat roles/nginx/handlers/main.yml"
   ]
  },
  {
   "cell_type": "markdown",
   "metadata": {},
   "source": [
    "Eine lokales Inventory wird hier auch definiert."
   ]
  },
  {
   "cell_type": "code",
   "execution_count": 14,
   "metadata": {
    "collapsed": false
   },
   "outputs": [
    {
     "name": "stdout",
     "output_type": "stream",
     "text": [
      "[local]\r\n",
      "localhost     ansible_connection=local\r\n",
      "\r\n",
      "[www]\r\n",
      "192.168.60.11 ansible_ssh_user=vagrant\r\n",
      "192.168.60.12 ansible_ssh_user=vagrant\r\n",
      "192.168.60.13 ansible_ssh_user=vagrant\r\n",
      "\r\n",
      "[lb]\r\n",
      "192.168.60.2 ansible_ssh_user=vagrant\r\n",
      "\r\n",
      "[db]\r\n",
      "192.168.60.21 ansible_ssh_user=vagrant\r\n",
      "192.168.60.22 ansible_ssh_user=vagrant\r\n"
     ]
    }
   ],
   "source": [
    "cat customhosts"
   ]
  },
  {
   "cell_type": "markdown",
   "metadata": {},
   "source": [
    "Hier der Auffruf:"
   ]
  },
  {
   "cell_type": "code",
   "execution_count": 15,
   "metadata": {
    "collapsed": false,
    "scrolled": true
   },
   "outputs": [
    {
     "name": "stdout",
     "output_type": "stream",
     "text": [
      "statically included: /home/vagrant/projects/Kap2_Rollen/roles/nginx/tasks/install.yml\r\n",
      "statically included: /home/vagrant/projects/Kap2_Rollen/roles/nginx/tasks/configure.yml\r\n",
      "statically included: /home/vagrant/projects/Kap2_Rollen/roles/nginx/tasks/service.yml\r\n",
      "\r\n",
      "PLAY [www] *********************************************************************\r\n",
      "\r\n",
      "TASK [setup] *******************************************************************\r\n",
      "ok: [192.168.60.12]\r\n",
      "ok: [192.168.60.11]\r\n",
      "ok: [192.168.60.13]\r\n",
      "\r\n",
      "TASK [debug] *******************************************************************\r\n",
      "ok: [192.168.60.11] => {\r\n",
      "    \"msg\": \"I\\\":\\\" Beginning to configure web server..\"\r\n",
      "}\r\n",
      "ok: [192.168.60.12] => {\r\n",
      "    \"msg\": \"I\\\":\\\" Beginning to configure web server..\"\r\n",
      "}\r\n",
      "ok: [192.168.60.13] => {\r\n",
      "    \"msg\": \"I\\\":\\\" Beginning to configure web server..\"\r\n",
      "}\r\n",
      "\r\n",
      "TASK [base : creating devops group] ********************************************\r\n",
      "changed: [192.168.60.11]\r\n",
      "changed: [192.168.60.12]\r\n",
      "changed: [192.168.60.13]\r\n",
      "\r\n",
      "TASK [base : create devops user with admin previleges] *************************\r\n",
      "changed: [192.168.60.13]\r\n",
      "changed: [192.168.60.12]\r\n",
      "changed: [192.168.60.11]\r\n",
      "\r\n",
      "TASK [base : install htop package] *********************************************\r\n",
      "ok: [192.168.60.11]\r\n",
      "ok: [192.168.60.13]\r\n",
      "ok: [192.168.60.12]\r\n",
      "\r\n",
      "TASK [nginx : add official nginx repository] ***********************************\r\n",
      "changed: [192.168.60.12]\r\n",
      "changed: [192.168.60.13]\r\n",
      "changed: [192.168.60.11]\r\n",
      "\r\n",
      "TASK [nginx : install nginx web server and ensure its at the latest version] ***\r\n",
      "changed: [192.168.60.12]\r\n",
      "changed: [192.168.60.13]\r\n",
      "changed: [192.168.60.11]\r\n",
      "\r\n",
      "TASK [nginx : create default site configurations] ******************************\r\n",
      "changed: [192.168.60.11]\r\n",
      "changed: [192.168.60.13]\r\n",
      "changed: [192.168.60.12]\r\n",
      "\r\n",
      "TASK [nginx : create home page for default site] *******************************\r\n",
      "changed: [192.168.60.11]\r\n",
      "changed: [192.168.60.13]\r\n",
      "changed: [192.168.60.12]\r\n",
      "\r\n",
      "TASK [nginx : start nginx service] *********************************************\r\n",
      "ok: [192.168.60.13]\r\n",
      "ok: [192.168.60.11]\r\n",
      "ok: [192.168.60.12]\r\n",
      "\r\n",
      "RUNNING HANDLER [nginx : restart nginx service] ********************************\r\n",
      "changed: [192.168.60.11]\r\n",
      "changed: [192.168.60.13]\r\n",
      "changed: [192.168.60.12]\r\n",
      "\r\n",
      "TASK [debug] *******************************************************************\r\n",
      "ok: [192.168.60.11] => {\r\n",
      "    \"msg\": \"I\\\":\\\" Done configuring nginx web server...\"\r\n",
      "}\r\n",
      "ok: [192.168.60.12] => {\r\n",
      "    \"msg\": \"I\\\":\\\" Done configuring nginx web server...\"\r\n",
      "}\r\n",
      "ok: [192.168.60.13] => {\r\n",
      "    \"msg\": \"I\\\":\\\" Done configuring nginx web server...\"\r\n",
      "}\r\n",
      "\r\n",
      "PLAY RECAP *********************************************************************\r\n",
      "192.168.60.11              : ok=12   changed=7    unreachable=0    failed=0   \r\n",
      "192.168.60.12              : ok=12   changed=7    unreachable=0    failed=0   \r\n",
      "192.168.60.13              : ok=12   changed=7    unreachable=0    failed=0   \r\n",
      "\r\n"
     ]
    }
   ],
   "source": [
    "ansible-playbook -i customhosts site.yml"
   ]
  },
  {
   "cell_type": "markdown",
   "metadata": {},
   "source": [
    "Beachten Sie dabie folgendes:\n",
    "\n",
    "* Die pre_tasks und post_tasks Ausführung.\n",
    "* Die Rolle base wird ausgeführt. Warum?\n",
    "\n",
    "Der Funktiontest könnte so aussehen:"
   ]
  },
  {
   "cell_type": "code",
   "execution_count": 16,
   "metadata": {
    "collapsed": false
   },
   "outputs": [
    {
     "name": "stdout",
     "output_type": "stream",
     "text": [
      "<!DOCTYPE HTML><html lang='en' dir='ltr' class='other other0'><head><meta charset=\"utf-8\" /><meta name=\"referrer\" content=\"no-referrer\" /><meta name=\"robots\" content=\"noindex,nofollow\" /><meta http-equiv=\"X-UA-Compatible\" content=\"IE=Edge\"><style id=\"cfs-style\">html{display: none;}</style><link rel=\"icon\" href=\"favicon.ico\" type=\"image/x-icon\" /><link rel=\"shortcut icon\" href=\"favicon.ico\" type=\"image/x-icon\" /><link rel=\"stylesheet\" type=\"text/css\" href=\"./themes/pmahomme/jquery/jquery-ui-1.11.4.css\" /><link rel=\"stylesheet\" type=\"text/css\" href=\"js/codemirror/lib/codemirror.css?v=4.6.4deb1%2Bdeb.cihar.com%7Exenial.1\" /><link rel=\"stylesheet\" type=\"text/css\" href=\"js/codemirror/addon/hint/show-hint.css?v=4.6.4deb1%2Bdeb.cihar.com%7Exenial.1\" /><link rel=\"stylesheet\" type=\"text/css\" href=\"js/codemirror/addon/lint/lint.css?v=4.6.4deb1%2Bdeb.cihar.com%7Exenial.1\" /><link rel=\"stylesheet\" type=\"text/css\" href=\"phpmyadmin.css.php?nocache=4409427420ltr\" /><link rel=\"stylesheet\" type=\"text/css\" href=\"./themes/pmahomme/css/printview.css?v=4.6.4deb1%2Bdeb.cihar.com%7Exenial.1\" media=\"print\" id=\"printcss\"/><title>phpMyAdmin</title><script data-cfasync='false' type='text/javascript' src='js/whitelist.php?lang=en&amp;db=&amp;collation_connection=utf8_unicode_ci&amp;token=383f5eb81eae0793c7b4ef186b3ef85a&v=4.6.4deb1%2Bdeb.cihar.com%7Exenial.1'></script><script data-cfasync=\"false\" type=\"text/javascript\" src=\"js/get_scripts.js.php?scripts%5B%5D=jquery/jquery-2.1.4.min.js&amp;scripts%5B%5D=sprintf.js&amp;scripts%5B%5D=ajax.js&amp;scripts%5B%5D=keyhandler.js&amp;scripts%5B%5D=jquery/jquery-ui-1.11.4.min.js&amp;scripts%5B%5D=jquery/jquery.cookie.js&amp;scripts%5B%5D=jquery/jquery.mousewheel.js&amp;scripts%5B%5D=jquery/jquery.event.drag-2.2.js&amp;scripts%5B%5D=jquery/jquery-ui-timepicker-addon.js&amp;scripts%5B%5D=jquery/jquery.ba-hashchange-1.3.js&amp;v=4.6.4deb1%2Bdeb.cihar.com%7Exenial.1\"></script><script data-cfasync=\"false\" type=\"text/javascript\" src=\"js/get_scripts.js.php?scripts%5B%5D=jquery/jquery.debounce-1.0.5.js&amp;scripts%5B%5D=menu-resizer.js&amp;scripts%5B%5D=cross_framing_protection.js&amp;scripts%5B%5D=rte.js&amp;scripts%5B%5D=tracekit/tracekit.js&amp;scripts%5B%5D=error_report.js&amp;scripts%5B%5D=config.js&amp;scripts%5B%5D=doclinks.js&amp;scripts%5B%5D=functions.js&amp;scripts%5B%5D=navigation.js&amp;v=4.6.4deb1%2Bdeb.cihar.com%7Exenial.1\"></script><script data-cfasync=\"false\" type=\"text/javascript\" src=\"js/get_scripts.js.php?scripts%5B%5D=indexes.js&amp;scripts%5B%5D=common.js&amp;scripts%5B%5D=page_settings.js&amp;scripts%5B%5D=codemirror/lib/codemirror.js&amp;scripts%5B%5D=codemirror/mode/sql/sql.js&amp;scripts%5B%5D=codemirror/addon/runmode/runmode.js&amp;scripts%5B%5D=codemirror/addon/hint/show-hint.js&amp;scripts%5B%5D=codemirror/addon/hint/sql-hint.js&amp;scripts%5B%5D=codemirror/addon/lint/lint.js&amp;scripts%5B%5D=codemirror/addon/lint/sql-lint.js&amp;v=4.6.4deb1%2Bdeb.cihar.com%7Exenial.1\"></script><script data-cfasync=\"false\" type=\"text/javascript\" src=\"js/get_scripts.js.php?scripts%5B%5D=console.js&amp;v=4.6.4deb1%2Bdeb.cihar.com%7Exenial.1\"></script><script data-cfasync='false' type='text/javascript' src='js/messages.php?lang=en&amp;db=&amp;collation_connection=utf8_unicode_ci&amp;token=383f5eb81eae0793c7b4ef186b3ef85a&v=4.6.4deb1%2Bdeb.cihar.com%7Exenial.1'></script><script data-cfasync='false' type='text/javascript' src='js/get_image.js.php?theme=pmahomme&v=4.6.4deb1%2Bdeb.cihar.com%7Exenial.1'></script><script data-cfasync=\"false\" type=\"text/javascript\">// <![CDATA[\r\n",
      "PMA_commonParams.setAll({common_query:\"?lang=en&collation_connection=utf8_unicode_ci&token=383f5eb81eae0793c7b4ef186b3ef85a\",opendb_url:\"db_structure.php\",safari_browser:\"0\",collation_connection:\"utf8_unicode_ci\",lang:\"en\",server:\"1\",table:\"\",db:\"\",token:\"383f5eb81eae0793c7b4ef186b3ef85a\",text_dir:\"ltr\",show_databases_navigation_as_tree:\"1\",pma_text_default_tab:\"Browse\",pma_text_left_default_tab:\"Structure\",pma_text_left_default_tab2:\"\",LimitChars:\"50\",pftext:\"\",confirm:\"1\",LoginCookieValidity:\"1440\",logged_in:\"\",PMA_VERSION:\"4.6.4deb1+deb.cihar.com~xenial.1\",auth_type:\"cookie\"});\r\n",
      "ConsoleEnterExecutes=false\r\n",
      "AJAX.scriptHandler.add(\"jquery/jquery-2.1.4.min.js\",0).add(\"whitelist.php?lang=en&amp;db=&amp;collation_connection=utf8_unicode_ci&amp;token=383f5eb81eae0793c7b4ef186b3ef85a\",1).add(\"sprintf.js\",1).add(\"ajax.js\",0).add(\"keyhandler.js\",1).add(\"jquery/jquery-ui-1.11.4.min.js\",0).add(\"jquery/jquery.cookie.js\",0).add(\"jquery/jquery.mousewheel.js\",0).add(\"jquery/jquery.event.drag-2.2.js\",0).add(\"jquery/jquery-ui-timepicker-addon.js\",0).add(\"jquery/jquery.ba-hashchange-1.3.js\",0).add(\"jquery/jquery.debounce-1.0.5.js\",0).add(\"menu-resizer.js\",1).add(\"cross_framing_protection.js\",0).add(\"rte.js\",1).add(\"tracekit/tracekit.js\",1).add(\"error_report.js\",1).add(\"messages.php?lang=en&amp;db=&amp;collation_connection=utf8_unicode_ci&amp;token=383f5eb81eae0793c7b4ef186b3ef85a\",0).add(\"get_image.js.php?theme=pmahomme\",0).add(\"config.js\",1).add(\"doclinks.js\",1).add(\"functions.js\",1).add(\"navigation.js\",1).add(\"indexes.js\",1).add(\"common.js\",1).add(\"page_settings.js\",1).add(\"codemirror/lib/codemirror.js\",0).add(\"codemirror/mode/sql/sql.js\",0).add(\"codemirror/addon/runmode/runmode.js\",0).add(\"codemirror/addon/hint/show-hint.js\",0).add(\"codemirror/addon/hint/sql-hint.js\",0).add(\"codemirror/addon/lint/lint.js\",0).add(\"codemirror/addon/lint/sql-lint.js\",0).add(\"console.js\",1);\r\n",
      "$(function() {AJAX.fireOnload(\"whitelist.php?lang=en&amp;db=&amp;collation_connection=utf8_unicode_ci&amp;token=383f5eb81eae0793c7b4ef186b3ef85a\");AJAX.fireOnload(\"sprintf.js\");AJAX.fireOnload(\"keyhandler.js\");AJAX.fireOnload(\"menu-resizer.js\");AJAX.fireOnload(\"rte.js\");AJAX.fireOnload(\"tracekit/tracekit.js\");AJAX.fireOnload(\"error_report.js\");AJAX.fireOnload(\"config.js\");AJAX.fireOnload(\"doclinks.js\");AJAX.fireOnload(\"functions.js\");AJAX.fireOnload(\"navigation.js\");AJAX.fireOnload(\"indexes.js\");AJAX.fireOnload(\"common.js\");AJAX.fireOnload(\"page_settings.js\");AJAX.fireOnload(\"console.js\");});\r\n",
      "// ]]></script><noscript><style>html{display:block}</style></noscript></head><body id='loginform'><div id=\"pma_header\"></div><div id=\"page_content\">\r\n",
      "    <div class=\"container\">\r\n",
      "    <a href=\"./url.php?url=https%3A%2F%2Fwww.phpmyadmin.net%2F\" target=\"_blank\" class=\"logo\"><img src=\"./themes/pmahomme/img/logo_right.png\" id=\"imLogo\" name=\"imLogo\" alt=\"phpMyAdmin\" border=\"0\" /></a>\r\n",
      "       <h1>Welcome to <bdo dir=\"ltr\" lang=\"en\">phpMyAdmin</bdo></h1><noscript>\r\n",
      "<div class=\"error\"><img src=\"themes/dot.gif\" title=\"\" alt=\"\" class=\"icon ic_s_error\" /> Javascript must be enabled past this point!</div></noscript>\r\n",
      "<div class='hide js-show'><form method=\"get\" action=\"index.php\" class=\"disableAjax\"><input type=\"hidden\" name=\"db\" value=\"\" /><input type=\"hidden\" name=\"table\" value=\"\" /><input type=\"hidden\" name=\"lang\" value=\"en\" /><input type=\"hidden\" name=\"collation_connection\" value=\"utf8_unicode_ci\" /><input type=\"hidden\" name=\"token\" value=\"383f5eb81eae0793c7b4ef186b3ef85a\" /><fieldset><legend lang=\"en\" dir=\"ltr\">Language</legend><select name=\"lang\" class=\"autosubmit\" lang=\"en\" dir=\"ltr\" id=\"sel-lang\"><option value=\"hy\">Հայերէն - Armenian</option><option value=\"az\">Az&#601;rbaycanca - Azerbaijani</option><option value=\"bn\">বাংলা - Bangla</option><option value=\"pt_br\">Portugu&ecirc;s - Brazilian Portuguese</option><option value=\"bg\">&#1041;&#1098;&#1083;&#1075;&#1072;&#1088;&#1089;&#1082;&#1080; - Bulgarian</option><option value=\"ca\">Catal&agrave; - Catalan</option><option value=\"zh_cn\">&#20013;&#25991; - Chinese simplified</option><option value=\"zh_tw\">&#20013;&#25991; - Chinese traditional</option><option value=\"cs\">Čeština - Czech</option><option value=\"da\">Dansk - Danish</option><option value=\"nl\">Nederlands - Dutch</option><option value=\"en\" selected=\"selected\">English</option><option value=\"en_gb\">English (United Kingdom)</option><option value=\"et\">Eesti - Estonian</option><option value=\"fi\">Suomi - Finnish</option><option value=\"fr\">Fran&ccedil;ais - French</option><option value=\"gl\">Galego - Galician</option><option value=\"de\">Deutsch - German</option><option value=\"el\">&Epsilon;&lambda;&lambda;&eta;&nu;&iota;&kappa;&#940; - Greek</option><option value=\"hu\">Magyar - Hungarian</option><option value=\"id\">Bahasa Indonesia - Indonesian</option><option value=\"ia\">Interlingua</option><option value=\"it\">Italiano - Italian</option><option value=\"ja\">&#26085;&#26412;&#35486; - Japanese</option><option value=\"ko\">&#54620;&#44397;&#50612; - Korean</option><option value=\"lt\">Lietuvi&#371; - Lithuanian</option><option value=\"nb\">Norsk - Norwegian</option><option value=\"pl\">Polski - Polish</option><option value=\"pt\">Portugu&ecirc;s - Portuguese</option><option value=\"ro\">Rom&acirc;n&#259; - Romanian</option><option value=\"ru\">&#1056;&#1091;&#1089;&#1089;&#1082;&#1080;&#1081; - Russian</option><option value=\"sr@latin\">Srpski - Serbian (latin)</option><option value=\"si\">&#3523;&#3538;&#3458;&#3524;&#3517; - Sinhala</option><option value=\"sq\">Shqip - Slbanian</option><option value=\"sk\">Sloven&#269;ina - Slovak</option><option value=\"sl\">Sloven&scaron;&#269;ina - Slovenian</option><option value=\"es\">Espa&ntilde;ol - Spanish</option><option value=\"sv\">Svenska - Swedish</option><option value=\"tr\">T&uuml;rk&ccedil;e - Turkish</option><option value=\"uk\">&#1059;&#1082;&#1088;&#1072;&#1111;&#1085;&#1089;&#1100;&#1082;&#1072; - Ukrainian</option><option value=\"vi\">Tiếng Việt - Vietnamese</option></select></fieldset></form></div>\r\n",
      "    <br />\r\n",
      "    <!-- Login form -->\r\n",
      "    <form method=\"post\" action=\"index.php\" name=\"login_form\" class=\"disableAjax login hide js-show\">\r\n",
      "        <fieldset>\r\n",
      "        <legend>Log in<a href=\"./doc/html/index.html\" target=\"documentation\"><img src=\"themes/dot.gif\" title=\"Documentation\" alt=\"Documentation\" class=\"icon ic_b_help\" /></a></legend><div class=\"item\">\r\n",
      "                <label for=\"input_username\">Username:</label>\r\n",
      "                <input type=\"text\" name=\"pma_username\" id=\"input_username\" value=\"\" size=\"24\" class=\"textfield\"/>\r\n",
      "            </div>\r\n",
      "            <div class=\"item\">\r\n",
      "                <label for=\"input_password\">Password:</label>\r\n",
      "                <input type=\"password\" name=\"pma_password\" id=\"input_password\" value=\"\" size=\"24\" class=\"textfield\" />\r\n",
      "            </div><div class=\"item\">\r\n",
      "                <label for=\"select_server\">Server Choice:</label>\r\n",
      "                <select name=\"server\" id=\"select_server\"><option value=\"1\"  selected=\"selected\">localhost</option>\r\n",
      "<option value=\"2\" >localhost  (root)</option>\r\n",
      "</select></div></fieldset>\r\n",
      "        <fieldset class=\"tblFooters\">\r\n",
      "            <input value=\"Go\" type=\"submit\" id=\"input_go\" /><input type=\"hidden\" name=\"target\" value=\"index.php\" /><input type=\"hidden\" name=\"lang\" value=\"en\" /><input type=\"hidden\" name=\"collation_connection\" value=\"utf8_unicode_ci\" /><input type=\"hidden\" name=\"token\" value=\"383f5eb81eae0793c7b4ef186b3ef85a\" /></fieldset>\r\n",
      "    </form></div></div></body></html>"
     ]
    }
   ],
   "source": [
    "curl 192.168.60.11"
   ]
  },
  {
   "cell_type": "markdown",
   "metadata": {
    "collapsed": true
   },
   "source": [
    "OOPS: Da leckt noch Öl raus, da muss man noch bei.\n",
    "\n",
    "M.a.W: Es wird noch die pma geladen und nicht unsere Webseite. Unsere Rolle muss noch angepasste werden."
   ]
  }
 ],
 "metadata": {
  "kernelspec": {
   "display_name": "Bash",
   "language": "bash",
   "name": "bash"
  },
  "language_info": {
   "codemirror_mode": "shell",
   "file_extension": ".sh",
   "mimetype": "text/x-sh",
   "name": "bash"
  }
 },
 "nbformat": 4,
 "nbformat_minor": 1
}
