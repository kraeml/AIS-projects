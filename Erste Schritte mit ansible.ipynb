{
 "cells": [
  {
   "cell_type": "markdown",
   "metadata": {},
   "source": [
    "# Ansible Adhoc Kommandos\n",
    "\n",
    "Zunächst muss Ansible auf einem Host installiert sein.\n",
    "\n",
    "http://docs.ansible.com/ansible/intro_installation.html\n",
    "\n",
    "Danch können einfache Adhoc Kommandos ausgeführt werden.\n",
    "\n",
    "http://docs.ansible.com/ansible/intro_getting_started.html"
   ]
  },
  {
   "cell_type": "code",
   "execution_count": 1,
   "metadata": {
    "collapsed": false
   },
   "outputs": [
    {
     "name": "stdout",
     "output_type": "stream",
     "text": []
    }
   ],
   "source": [
    "history -c"
   ]
  },
  {
   "cell_type": "code",
   "execution_count": 2,
   "metadata": {
    "collapsed": false
   },
   "outputs": [
    {
     "name": "stdout",
     "output_type": "stream",
     "text": [
      "ansible 2.1.1.0\r\n",
      "  config file = \r\n",
      "  configured module search path = Default w/o overrides\r\n"
     ]
    }
   ],
   "source": [
    "ansible --version"
   ]
  },
  {
   "cell_type": "markdown",
   "metadata": {},
   "source": [
    "Update ansible via pip.\n",
    "\n",
    "Wegen pip siehe: https://docs.python.org/2/installing/"
   ]
  },
  {
   "cell_type": "code",
   "execution_count": 3,
   "metadata": {
    "collapsed": false
   },
   "outputs": [
    {
     "name": "stdout",
     "output_type": "stream",
     "text": [
      "\u001b[33mThe directory '/home/vagrant/.cache/pip/http' or its parent directory is not owned by the current user and the cache has been disabled. Please check the permissions and owner of that directory. If executing pip with sudo, you may want sudo's -H flag.\u001b[0m\r\n",
      "\u001b[33mThe directory '/home/vagrant/.cache/pip' or its parent directory is not owned by the current user and caching wheels has been disabled. check the permissions and owner of that directory. If executing pip with sudo, you may want sudo's -H flag.\u001b[0m\r\n",
      "Collecting ansible\r\n",
      "  Downloading ansible-2.1.2.0.tar.gz (1.9MB)\r\n",
      "\u001b[?25l\r",
      "\u001b[K    0% |▏                               | 10kB 1.3MB/s eta 0:00:02\r",
      "\u001b[K    1% |▍                               | 20kB 1.5MB/s eta 0:00:02\r",
      "\u001b[K    1% |▌                               | 30kB 1.6MB/s eta 0:00:02\r",
      "\u001b[K    2% |▊                               | 40kB 1.5MB/s eta 0:00:02\r",
      "\u001b[K    2% |▉                               | 51kB 1.4MB/s eta 0:00:02\r",
      "\u001b[K    3% |█                               | 61kB 1.6MB/s eta 0:00:02\r",
      "\u001b[K    3% |█▏                              | 71kB 1.6MB/s eta 0:00:02\r",
      "\u001b[K    4% |█▍                              | 81kB 1.5MB/s eta 0:00:02\r",
      "\u001b[K    4% |█▋                              | 92kB 1.7MB/s eta 0:00:02\r",
      "\u001b[K    5% |█▊                              | 102kB 1.6MB/s eta 0:00:02\r",
      "\u001b[K    5% |██                              | 112kB 1.8MB/s eta 0:00:01\r",
      "\u001b[K    6% |██                              | 122kB 1.7MB/s eta 0:00:02\r",
      "\u001b[K    7% |██▎                             | 133kB 1.6MB/s eta 0:00:02\r",
      "\u001b[K    7% |██▍                             | 143kB 1.9MB/s eta 0:00:01\r",
      "\u001b[K    8% |██▋                             | 153kB 1.9MB/s eta 0:00:01\r",
      "\u001b[K    8% |██▉                             | 163kB 1.7MB/s eta 0:00:02\r",
      "\u001b[K    9% |███                             | 174kB 1.9MB/s eta 0:00:01\r",
      "\u001b[K    9% |███▏                            | 184kB 1.9MB/s eta 0:00:01\r",
      "\u001b[K    10% |███▎                            | 194kB 1.9MB/s eta 0:00:01\r",
      "\u001b[K    10% |███▌                            | 204kB 1.9MB/s eta 0:00:01\r",
      "\u001b[K    11% |███▋                            | 215kB 1.7MB/s eta 0:00:02\r",
      "\u001b[K    11% |███▉                            | 225kB 1.9MB/s eta 0:00:01\r",
      "\u001b[K    12% |████                            | 235kB 1.9MB/s eta 0:00:01\r",
      "\u001b[K    13% |████▏                           | 245kB 1.7MB/s eta 0:00:01\r",
      "\u001b[K    13% |████▍                           | 256kB 1.9MB/s eta 0:00:01\r",
      "\u001b[K    14% |████▌                           | 266kB 1.9MB/s eta 0:00:01\r",
      "\u001b[K    14% |████▊                           | 276kB 1.9MB/s eta 0:00:01\r",
      "\u001b[K    15% |████▉                           | 286kB 1.9MB/s eta 0:00:01\r",
      "\u001b[K    15% |█████                           | 296kB 1.6MB/s eta 0:00:01\r",
      "\u001b[K    16% |█████▎                          | 307kB 1.9MB/s eta 0:00:01\r",
      "\u001b[K    16% |█████▍                          | 317kB 1.9MB/s eta 0:00:01\r",
      "\u001b[K    17% |█████▋                          | 327kB 1.6MB/s eta 0:00:01\r",
      "\u001b[K    17% |█████▊                          | 337kB 1.8MB/s eta 0:00:01\r",
      "\u001b[K    18% |██████                          | 348kB 1.9MB/s eta 0:00:01\r",
      "\u001b[K    19% |██████                          | 358kB 1.9MB/s eta 0:00:01\r",
      "\u001b[K    19% |██████▎                         | 368kB 1.9MB/s eta 0:00:01\r",
      "\u001b[K    20% |██████▌                         | 378kB 1.6MB/s eta 0:00:01\r",
      "\u001b[K    20% |██████▋                         | 389kB 1.9MB/s eta 0:00:01\r",
      "\u001b[K    21% |██████▉                         | 399kB 1.9MB/s eta 0:00:01\r",
      "\u001b[K    21% |███████                         | 409kB 1.6MB/s eta 0:00:01\r",
      "\u001b[K    22% |███████▏                        | 419kB 1.9MB/s eta 0:00:01\r",
      "\u001b[K    22% |███████▎                        | 430kB 1.9MB/s eta 0:00:01\r",
      "\u001b[K    23% |███████▌                        | 440kB 2.0MB/s eta 0:00:01\r",
      "\u001b[K    23% |███████▋                        | 450kB 1.9MB/s eta 0:00:01\r",
      "\u001b[K    24% |███████▉                        | 460kB 1.7MB/s eta 0:00:01\r",
      "\u001b[K    25% |████████                        | 471kB 1.9MB/s eta 0:00:01\r",
      "\u001b[K    25% |████████▏                       | 481kB 1.9MB/s eta 0:00:01\r",
      "\u001b[K    26% |████████▍                       | 491kB 1.7MB/s eta 0:00:01\r",
      "\u001b[K    26% |████████▌                       | 501kB 1.9MB/s eta 0:00:01\r",
      "\u001b[K    27% |████████▊                       | 512kB 1.9MB/s eta 0:00:01\r",
      "\u001b[K    27% |████████▉                       | 522kB 1.9MB/s eta 0:00:01\r",
      "\u001b[K    28% |█████████                       | 532kB 1.9MB/s eta 0:00:01\r",
      "\u001b[K    28% |█████████▎                      | 542kB 1.7MB/s eta 0:00:01\r",
      "\u001b[K    29% |█████████▍                      | 552kB 1.9MB/s eta 0:00:01\r",
      "\u001b[K    29% |█████████▋                      | 563kB 1.9MB/s eta 0:00:01\r",
      "\u001b[K    30% |█████████▊                      | 573kB 1.6MB/s eta 0:00:01\r",
      "\u001b[K    31% |██████████                      | 583kB 1.8MB/s eta 0:00:01\r",
      "\u001b[K    31% |██████████                      | 593kB 1.9MB/s eta 0:00:01\r",
      "\u001b[K    32% |██████████▎                     | 604kB 1.9MB/s eta 0:00:01\r",
      "\u001b[K    32% |██████████▌                     | 614kB 1.9MB/s eta 0:00:01\r",
      "\u001b[K    33% |██████████▋                     | 624kB 1.7MB/s eta 0:00:01\r",
      "\u001b[K    33% |██████████▉                     | 634kB 1.9MB/s eta 0:00:01\r",
      "\u001b[K    34% |███████████                     | 645kB 1.9MB/s eta 0:00:01\r",
      "\u001b[K    34% |███████████▏                    | 655kB 1.6MB/s eta 0:00:01\r",
      "\u001b[K    35% |███████████▎                    | 665kB 1.9MB/s eta 0:00:01\r",
      "\u001b[K    35% |███████████▌                    | 675kB 2.0MB/s eta 0:00:01\r",
      "\u001b[K    36% |███████████▊                    | 686kB 2.0MB/s eta 0:00:01\r",
      "\u001b[K    37% |███████████▉                    | 696kB 1.9MB/s eta 0:00:01\r",
      "\u001b[K    37% |████████████                    | 706kB 1.7MB/s eta 0:00:01\r",
      "\u001b[K    38% |████████████▏                   | 716kB 1.9MB/s eta 0:00:01\r",
      "\u001b[K    38% |████████████▍                   | 727kB 1.9MB/s eta 0:00:01\r",
      "\u001b[K    39% |████████████▌                   | 737kB 1.7MB/s eta 0:00:01\r",
      "\u001b[K    39% |████████████▊                   | 747kB 1.9MB/s eta 0:00:01\r",
      "\u001b[K    40% |█████████████                   | 757kB 1.9MB/s eta 0:00:01\r",
      "\u001b[K    40% |█████████████                   | 768kB 1.9MB/s eta 0:00:01\r",
      "\u001b[K    41% |█████████████▎                  | 778kB 1.9MB/s eta 0:00:01\r",
      "\u001b[K    41% |█████████████▍                  | 788kB 1.7MB/s eta 0:00:01\r",
      "\u001b[K    42% |█████████████▋                  | 798kB 1.9MB/s eta 0:00:01\r",
      "\u001b[K    43% |█████████████▊                  | 808kB 1.9MB/s eta 0:00:01\r",
      "\u001b[K    43% |██████████████                  | 819kB 1.7MB/s eta 0:00:01\r",
      "\u001b[K    44% |██████████████                  | 829kB 1.9MB/s eta 0:00:01\r",
      "\u001b[K    44% |██████████████▎                 | 839kB 1.9MB/s eta 0:00:01\r",
      "\u001b[K    45% |██████████████▌                 | 849kB 1.9MB/s eta 0:00:01\r",
      "\u001b[K    45% |██████████████▋                 | 860kB 1.9MB/s eta 0:00:01\r",
      "\u001b[K    46% |██████████████▉                 | 870kB 1.6MB/s eta 0:00:01\r",
      "\u001b[K    46% |███████████████                 | 880kB 1.9MB/s eta 0:00:01\r",
      "\u001b[K    47% |███████████████▏                | 890kB 1.9MB/s eta 0:00:01\r",
      "\u001b[K    47% |███████████████▎                | 901kB 1.6MB/s eta 0:00:01\r",
      "\u001b[K    48% |███████████████▌                | 911kB 1.9MB/s eta 0:00:01\r",
      "\u001b[K    48% |███████████████▊                | 921kB 1.9MB/s eta 0:00:01\r",
      "\u001b[K    49% |███████████████▉                | 931kB 1.9MB/s eta 0:00:01\r",
      "\u001b[K    50% |████████████████                | 942kB 1.9MB/s eta 0:00:01\r",
      "\u001b[K    50% |████████████████▏               | 952kB 1.7MB/s eta 0:00:01\r",
      "\u001b[K    51% |████████████████▍               | 962kB 1.9MB/s eta 0:00:01\r",
      "\u001b[K    51% |████████████████▌               | 972kB 1.9MB/s eta 0:00:01\r",
      "\u001b[K    52% |████████████████▊               | 983kB 1.7MB/s eta 0:00:01\r",
      "\u001b[K    52% |█████████████████               | 993kB 1.9MB/s eta 0:00:01\r",
      "\u001b[K    53% |█████████████████               | 1.0MB 1.9MB/s eta 0:00:01\r",
      "\u001b[K    53% |█████████████████▎              | 1.0MB 1.9MB/s eta 0:00:01\r",
      "\u001b[K    54% |█████████████████▍              | 1.0MB 1.9MB/s eta 0:00:01\r",
      "\u001b[K    54% |█████████████████▋              | 1.0MB 1.6MB/s eta 0:00:01\r",
      "\u001b[K    55% |█████████████████▊              | 1.0MB 1.9MB/s eta 0:00:01\r",
      "\u001b[K    56% |██████████████████              | 1.1MB 1.9MB/s eta 0:00:01\r",
      "\u001b[K    56% |██████████████████▏             | 1.1MB 1.6MB/s eta 0:00:01\r",
      "\u001b[K    57% |██████████████████▎             | 1.1MB 1.9MB/s eta 0:00:01\r",
      "\u001b[K    57% |██████████████████▌             | 1.1MB 1.9MB/s eta 0:00:01\r",
      "\u001b[K    58% |██████████████████▋             | 1.1MB 1.9MB/s eta 0:00:01\r",
      "\u001b[K    58% |██████████████████▉             | 1.1MB 1.9MB/s eta 0:00:01\r",
      "\u001b[K    59% |███████████████████             | 1.1MB 1.7MB/s eta 0:00:01\r",
      "\u001b[K    59% |███████████████████▏            | 1.1MB 1.9MB/s eta 0:00:01\r",
      "\u001b[K    60% |███████████████████▍            | 1.1MB 1.9MB/s eta 0:00:01\r",
      "\u001b[K    60% |███████████████████▌            | 1.1MB 1.7MB/s eta 0:00:01\r",
      "\u001b[K    61% |███████████████████▊            | 1.2MB 1.9MB/s eta 0:00:01\r",
      "\u001b[K    62% |███████████████████▉            | 1.2MB 1.9MB/s eta 0:00:01\r",
      "\u001b[K    62% |████████████████████            | 1.2MB 1.8MB/s eta 0:00:01\r",
      "\u001b[K    63% |████████████████████▏           | 1.2MB 1.9MB/s eta 0:00:01\r",
      "\u001b[K    63% |████████████████████▍           | 1.2MB 1.7MB/s eta 0:00:01\r",
      "\u001b[K    64% |████████████████████▌           | 1.2MB 1.9MB/s eta 0:00:01\r",
      "\u001b[K    64% |████████████████████▊           | 1.2MB 1.9MB/s eta 0:00:01\r",
      "\u001b[K    65% |█████████████████████           | 1.2MB 1.7MB/s eta 0:00:01\r",
      "\u001b[K    65% |█████████████████████           | 1.2MB 1.9MB/s eta 0:00:01\r",
      "\u001b[K    66% |█████████████████████▎          | 1.2MB 1.9MB/s eta 0:00:01\r",
      "\u001b[K    66% |█████████████████████▍          | 1.3MB 1.9MB/s eta 0:00:01\r",
      "\u001b[K    67% |█████████████████████▋          | 1.3MB 1.9MB/s eta 0:00:01\r",
      "\u001b[K    68% |█████████████████████▊          | 1.3MB 1.7MB/s eta 0:00:01\r",
      "\u001b[K    68% |██████████████████████          | 1.3MB 2.0MB/s eta 0:00:01\r",
      "\u001b[K    69% |██████████████████████▏         | 1.3MB 1.9MB/s eta 0:00:01\r",
      "\u001b[K    69% |██████████████████████▎         | 1.3MB 1.7MB/s eta 0:00:01\r",
      "\u001b[K    70% |██████████████████████▌         | 1.3MB 1.9MB/s eta 0:00:01\r",
      "\u001b[K    70% |██████████████████████▋         | 1.3MB 1.9MB/s eta 0:00:01\r",
      "\u001b[K    71% |██████████████████████▉         | 1.3MB 1.9MB/s eta 0:00:01\r",
      "\u001b[K    71% |███████████████████████         | 1.4MB 1.9MB/s eta 0:00:01\r",
      "\u001b[K    72% |███████████████████████▏        | 1.4MB 1.6MB/s eta 0:00:01\r",
      "\u001b[K    72% |███████████████████████▍        | 1.4MB 1.8MB/s eta 0:00:01\r",
      "\u001b[K    73% |███████████████████████▌        | 1.4MB 1.9MB/s eta 0:00:01\r",
      "\u001b[K    74% |███████████████████████▊        | 1.4MB 1.6MB/s eta 0:00:01\r",
      "\u001b[K    74% |███████████████████████▉        | 1.4MB 1.8MB/s eta 0:00:01\r",
      "\u001b[K    75% |████████████████████████        | 1.4MB 1.9MB/s eta 0:00:01\r",
      "\u001b[K    75% |████████████████████████▏       | 1.4MB 1.9MB/s eta 0:00:01\r",
      "\u001b[K    76% |████████████████████████▍       | 1.4MB 1.9MB/s eta 0:00:01\r",
      "\u001b[K    76% |████████████████████████▋       | 1.4MB 1.7MB/s eta 0:00:01\r",
      "\u001b[K    77% |████████████████████████▊       | 1.5MB 1.9MB/s eta 0:00:01\r",
      "\u001b[K    77% |█████████████████████████       | 1.5MB 1.9MB/s eta 0:00:01\r",
      "\u001b[K    78% |█████████████████████████       | 1.5MB 1.7MB/s eta 0:00:01\r",
      "\u001b[K    78% |█████████████████████████▎      | 1.5MB 2.0MB/s eta 0:00:01\r",
      "\u001b[K    79% |█████████████████████████▍      | 1.5MB 1.9MB/s eta 0:00:01\r",
      "\u001b[K    80% |█████████████████████████▋      | 1.5MB 1.8MB/s eta 0:00:01\r",
      "\u001b[K    80% |█████████████████████████▉      | 1.5MB 1.9MB/s eta 0:00:01\r",
      "\u001b[K    81% |██████████████████████████      | 1.5MB 1.7MB/s eta 0:00:01\r",
      "\u001b[K    81% |██████████████████████████▏     | 1.5MB 1.8MB/s eta 0:00:01\r",
      "\u001b[K    82% |██████████████████████████▎     | 1.5MB 1.9MB/s eta 0:00:01\r",
      "\u001b[K    82% |██████████████████████████▌     | 1.6MB 1.6MB/s eta 0:00:01\r",
      "\u001b[K    83% |██████████████████████████▋     | 1.6MB 1.9MB/s eta 0:00:01\r",
      "\u001b[K    83% |██████████████████████████▉     | 1.6MB 1.9MB/s eta 0:00:01\r",
      "\u001b[K    84% |███████████████████████████     | 1.6MB 1.9MB/s eta 0:00:01\r",
      "\u001b[K    84% |███████████████████████████▏    | 1.6MB 2.0MB/s eta 0:00:01\r",
      "\u001b[K    85% |███████████████████████████▍    | 1.6MB 1.7MB/s eta 0:00:01\r",
      "\u001b[K    86% |███████████████████████████▌    | 1.6MB 1.7MB/s eta 0:00:01\r",
      "\u001b[K    86% |███████████████████████████▊    | 1.6MB 1.8MB/s eta 0:00:01\r",
      "\u001b[K    87% |███████████████████████████▉    | 1.6MB 1.7MB/s eta 0:00:01\r",
      "\u001b[K    87% |████████████████████████████    | 1.6MB 1.9MB/s eta 0:00:01\r",
      "\u001b[K    88% |████████████████████████████▏   | 1.7MB 1.9MB/s eta 0:00:01\r",
      "\u001b[K    88% |████████████████████████████▍   | 1.7MB 1.9MB/s eta 0:00:01\r",
      "\u001b[K    89% |████████████████████████████▋   | 1.7MB 1.9MB/s eta 0:00:01\r",
      "\u001b[K    89% |████████████████████████████▊   | 1.7MB 1.7MB/s eta 0:00:01\r",
      "\u001b[K    90% |█████████████████████████████   | 1.7MB 2.0MB/s eta 0:00:01\r",
      "\u001b[K    90% |█████████████████████████████   | 1.7MB 2.0MB/s eta 0:00:01\r",
      "\u001b[K    91% |█████████████████████████████▎  | 1.7MB 1.9MB/s eta 0:00:01\r",
      "\u001b[K    91% |█████████████████████████████▍  | 1.7MB 2.0MB/s eta 0:00:01\r",
      "\u001b[K    92% |█████████████████████████████▋  | 1.7MB 1.9MB/s eta 0:00:01\r",
      "\u001b[K    93% |█████████████████████████████▉  | 1.8MB 1.9MB/s eta 0:00:01\r",
      "\u001b[K    93% |██████████████████████████████  | 1.8MB 2.0MB/s eta 0:00:01\r",
      "\u001b[K    94% |██████████████████████████████▏ | 1.8MB 1.7MB/s eta 0:00:01\r",
      "\u001b[K    94% |██████████████████████████████▎ | 1.8MB 1.9MB/s eta 0:00:01\r",
      "\u001b[K    95% |██████████████████████████████▌ | 1.8MB 1.9MB/s eta 0:00:01\r",
      "\u001b[K    95% |██████████████████████████████▋ | 1.8MB 1.7MB/s eta 0:00:01\r",
      "\u001b[K    96% |██████████████████████████████▉ | 1.8MB 1.8MB/s eta 0:00:01\r",
      "\u001b[K    96% |███████████████████████████████ | 1.8MB 1.9MB/s eta 0:00:01\r",
      "\u001b[K    97% |███████████████████████████████▏| 1.8MB 1.9MB/s eta 0:00:01\r",
      "\u001b[K    97% |███████████████████████████████▍| 1.8MB 1.9MB/s eta 0:00:01\r",
      "\u001b[K    98% |███████████████████████████████▌| 1.9MB 1.7MB/s eta 0:00:01\r",
      "\u001b[K    99% |███████████████████████████████▊| 1.9MB 1.9MB/s eta 0:00:01\r",
      "\u001b[K    99% |███████████████████████████████▉| 1.9MB 1.9MB/s eta 0:00:01\r",
      "\u001b[K    100% |████████████████████████████████| 1.9MB 175kB/s \r\n",
      "\u001b[?25hRequirement already up-to-date: paramiko in /usr/local/lib/python2.7/dist-packages (from ansible)\r\n",
      "Requirement already up-to-date: jinja2 in /usr/local/lib/python2.7/dist-packages (from ansible)\r\n",
      "Requirement already up-to-date: PyYAML in /usr/local/lib/python2.7/dist-packages (from ansible)\r\n",
      "Collecting setuptools (from ansible)\r\n",
      "  Downloading setuptools-28.5.0-py2.py3-none-any.whl (471kB)\r\n",
      "\u001b[?25l\r",
      "\u001b[K    2% |▊                               | 10kB 17.5MB/s eta 0:00:01\r",
      "\u001b[K    4% |█▍                              | 20kB 16.0MB/s eta 0:00:01\r",
      "\u001b[K    6% |██                              | 30kB 18.9MB/s eta 0:00:01\r",
      "\u001b[K    8% |██▉                             | 40kB 20.6MB/s eta 0:00:01\r",
      "\u001b[K    10% |███▌                            | 51kB 18.3MB/s eta 0:00:01\r",
      "\u001b[K    13% |████▏                           | 61kB 18.2MB/s eta 0:00:01\r",
      "\u001b[K    15% |████▉                           | 71kB 16.8MB/s eta 0:00:01\r",
      "\u001b[K    17% |█████▋                          | 81kB 6.1MB/s eta 0:00:01\r",
      "\u001b[K    19% |██████▎                         | 92kB 6.1MB/s eta 0:00:01\r",
      "\u001b[K    21% |███████                         | 102kB 4.9MB/s eta 0:00:01\r",
      "\u001b[K    23% |███████▋                        | 112kB 4.4MB/s eta 0:00:01\r",
      "\u001b[K    26% |████████▍                       | 122kB 3.6MB/s eta 0:00:01\r",
      "\u001b[K    28% |█████████                       | 133kB 2.8MB/s eta 0:00:01\r",
      "\u001b[K    30% |█████████▊                      | 143kB 2.7MB/s eta 0:00:01\r",
      "\u001b[K    32% |██████████▍                     | 153kB 2.3MB/s eta 0:00:01\r",
      "\u001b[K    34% |███████████▏                    | 163kB 1.9MB/s eta 0:00:01\r",
      "\u001b[K    36% |███████████▉                    | 174kB 1.9MB/s eta 0:00:01\r",
      "\u001b[K    39% |████████████▌                   | 184kB 2.0MB/s eta 0:00:01\r",
      "\u001b[K    41% |█████████████▏                  | 194kB 2.0MB/s eta 0:00:01\r",
      "\u001b[K    43% |██████████████                  | 204kB 1.9MB/s eta 0:00:01\r",
      "\u001b[K    45% |██████████████▋                 | 215kB 1.7MB/s eta 0:00:01\r",
      "\u001b[K    47% |███████████████▎                | 225kB 1.9MB/s eta 0:00:01\r",
      "\u001b[K    49% |████████████████                | 235kB 1.9MB/s eta 0:00:01\r",
      "\u001b[K    52% |████████████████▊               | 245kB 1.7MB/s eta 0:00:01\r",
      "\u001b[K    54% |█████████████████▍              | 256kB 1.9MB/s eta 0:00:01\r",
      "\u001b[K    56% |██████████████████              | 266kB 1.9MB/s eta 0:00:01\r",
      "\u001b[K    58% |██████████████████▊             | 276kB 1.9MB/s eta 0:00:01\r",
      "\u001b[K    60% |███████████████████▌            | 286kB 1.9MB/s eta 0:00:01\r",
      "\u001b[K    62% |████████████████████▏           | 296kB 1.7MB/s eta 0:00:01\r",
      "\u001b[K    65% |████████████████████▉           | 307kB 1.9MB/s eta 0:00:01\r",
      "\u001b[K    67% |█████████████████████▌          | 317kB 1.9MB/s eta 0:00:01\r",
      "\u001b[K    69% |██████████████████████▎         | 327kB 1.6MB/s eta 0:00:01\r",
      "\u001b[K    71% |███████████████████████         | 337kB 1.9MB/s eta 0:00:01\r",
      "\u001b[K    73% |███████████████████████▋        | 348kB 1.9MB/s eta 0:00:01\r",
      "\u001b[K    75% |████████████████████████▎       | 358kB 1.9MB/s eta 0:00:01\r",
      "\u001b[K    78% |█████████████████████████       | 368kB 1.9MB/s eta 0:00:01\r",
      "\u001b[K    80% |█████████████████████████▊      | 378kB 1.7MB/s eta 0:00:01\r",
      "\u001b[K    82% |██████████████████████████▍     | 389kB 1.9MB/s eta 0:00:01\r",
      "\u001b[K    84% |███████████████████████████     | 399kB 1.9MB/s eta 0:00:01\r",
      "\u001b[K    86% |███████████████████████████▉    | 409kB 1.6MB/s eta 0:00:01\r",
      "\u001b[K    88% |████████████████████████████▌   | 419kB 1.9MB/s eta 0:00:01\r",
      "\u001b[K    91% |█████████████████████████████▏  | 430kB 1.9MB/s eta 0:00:01\r",
      "\u001b[K    93% |█████████████████████████████▉  | 440kB 1.9MB/s eta 0:00:01\r",
      "\u001b[K    95% |██████████████████████████████▋ | 450kB 1.9MB/s eta 0:00:01\r",
      "\u001b[K    97% |███████████████████████████████▎| 460kB 1.7MB/s eta 0:00:01\r",
      "\u001b[K    99% |████████████████████████████████| 471kB 1.9MB/s eta 0:00:01\r",
      "\u001b[K    100% |████████████████████████████████| 481kB 719kB/s \r\n",
      "\u001b[?25hRequirement already up-to-date: pycrypto>=2.6 in /usr/local/lib/python2.7/dist-packages (from ansible)\r\n",
      "Requirement already up-to-date: pyasn1>=0.1.7 in /usr/local/lib/python2.7/dist-packages (from paramiko->ansible)\r\n",
      "Collecting cryptography>=1.1 (from paramiko->ansible)\r\n",
      "  Downloading cryptography-1.5.2.tar.gz (400kB)\r\n",
      "\u001b[?25l\r",
      "\u001b[K    2% |▉                               | 10kB 22.2MB/s eta 0:00:01\r",
      "\u001b[K    5% |█▋                              | 20kB 3.1MB/s eta 0:00:01\r",
      "\u001b[K    7% |██▌                             | 30kB 4.3MB/s eta 0:00:01\r",
      "\u001b[K    10% |███▎                            | 40kB 2.7MB/s eta 0:00:01\r",
      "\u001b[K    12% |████                            | 51kB 2.1MB/s eta 0:00:01\r",
      "\u001b[K    15% |█████                           | 61kB 2.5MB/s eta 0:00:01\r",
      "\u001b[K    17% |█████▊                          | 71kB 2.2MB/s eta 0:00:01\r",
      "\u001b[K    20% |██████▌                         | 81kB 1.9MB/s eta 0:00:01\r",
      "\u001b[K    23% |███████▍                        | 92kB 2.2MB/s eta 0:00:01\r",
      "\u001b[K    25% |████████▏                       | 102kB 2.0MB/s eta 0:00:01\r",
      "\u001b[K    28% |█████████                       | 112kB 2.0MB/s eta 0:00:01\r",
      "\u001b[K    30% |█████████▉                      | 122kB 1.9MB/s eta 0:00:01\r",
      "\u001b[K    33% |██████████▋                     | 133kB 1.7MB/s eta 0:00:01\r",
      "\u001b[K    35% |███████████▌                    | 143kB 1.9MB/s eta 0:00:01\r",
      "\u001b[K    38% |████████████▎                   | 153kB 1.9MB/s eta 0:00:01\r",
      "\u001b[K    40% |█████████████                   | 163kB 1.7MB/s eta 0:00:01\r",
      "\u001b[K    43% |██████████████                  | 174kB 1.9MB/s eta 0:00:01\r",
      "\u001b[K    46% |██████████████▊                 | 184kB 1.9MB/s eta 0:00:01\r",
      "\u001b[K    48% |███████████████▌                | 194kB 1.9MB/s eta 0:00:01\r",
      "\u001b[K    51% |████████████████▍               | 204kB 1.9MB/s eta 0:00:01\r",
      "\u001b[K    53% |█████████████████▏              | 215kB 1.7MB/s eta 0:00:01\r",
      "\u001b[K    56% |██████████████████              | 225kB 1.9MB/s eta 0:00:01\r",
      "\u001b[K    58% |██████████████████▉             | 235kB 1.9MB/s eta 0:00:01\r",
      "\u001b[K    61% |███████████████████▋            | 245kB 1.7MB/s eta 0:00:01\r",
      "\u001b[K    63% |████████████████████▌           | 256kB 1.9MB/s eta 0:00:01\r",
      "\u001b[K    66% |█████████████████████▎          | 266kB 1.9MB/s eta 0:00:01\r",
      "\u001b[K    69% |██████████████████████          | 276kB 1.9MB/s eta 0:00:01\r",
      "\u001b[K    71% |███████████████████████         | 286kB 1.9MB/s eta 0:00:01\r",
      "\u001b[K    74% |███████████████████████▊        | 296kB 1.7MB/s eta 0:00:01\r",
      "\u001b[K    76% |████████████████████████▌       | 307kB 1.9MB/s eta 0:00:01\r",
      "\u001b[K    79% |█████████████████████████▍      | 317kB 1.9MB/s eta 0:00:01\r",
      "\u001b[K    81% |██████████████████████████▏     | 327kB 1.6MB/s eta 0:00:01\r",
      "\u001b[K    84% |███████████████████████████     | 337kB 1.9MB/s eta 0:00:01\r",
      "\u001b[K    86% |███████████████████████████▉    | 348kB 1.9MB/s eta 0:00:01\r",
      "\u001b[K    89% |████████████████████████████▋   | 358kB 1.9MB/s eta 0:00:01\r",
      "\u001b[K    92% |█████████████████████████████▍  | 368kB 1.9MB/s eta 0:00:01\r",
      "\u001b[K    94% |██████████████████████████████▎ | 378kB 1.7MB/s eta 0:00:01\r",
      "\u001b[K    97% |███████████████████████████████ | 389kB 1.9MB/s eta 0:00:01\r",
      "\u001b[K    99% |████████████████████████████████| 399kB 2.1MB/s eta 0:00:01\r",
      "\u001b[K    100% |████████████████████████████████| 409kB 1.0MB/s \r\n",
      "\u001b[?25hRequirement already up-to-date: MarkupSafe in /usr/local/lib/python2.7/dist-packages (from jinja2->ansible)\r\n",
      "Requirement already up-to-date: idna>=2.0 in /usr/local/lib/python2.7/dist-packages (from cryptography>=1.1->paramiko->ansible)\r\n",
      "Requirement already up-to-date: six>=1.4.1 in /usr/local/lib/python2.7/dist-packages (from cryptography>=1.1->paramiko->ansible)\r\n",
      "Requirement already up-to-date: enum34 in /usr/local/lib/python2.7/dist-packages (from cryptography>=1.1->paramiko->ansible)\r\n",
      "Requirement already up-to-date: ipaddress in /usr/local/lib/python2.7/dist-packages (from cryptography>=1.1->paramiko->ansible)\r\n",
      "Requirement already up-to-date: cffi>=1.4.1 in /usr/local/lib/python2.7/dist-packages (from cryptography>=1.1->paramiko->ansible)\r\n",
      "Requirement already up-to-date: pycparser in /usr/local/lib/python2.7/dist-packages (from cffi>=1.4.1->cryptography>=1.1->paramiko->ansible)\r\n",
      "Installing collected packages: setuptools, ansible, cryptography\r\n",
      "  Found existing installation: setuptools 28.0.0\r\n",
      "    Uninstalling setuptools-28.0.0:\r\n",
      "      Successfully uninstalled setuptools-28.0.0\r\n",
      "  Found existing installation: ansible 2.1.1.0\r\n",
      "    Uninstalling ansible-2.1.1.0:\r\n",
      "      Successfully uninstalled ansible-2.1.1.0\r\n",
      "  Running setup.py install for ansible ... \u001b[?25l-\b \b\\\b \b|\b \b/\b \b-\b \b\\\b \b|\b \b/\b \b-\b \b\\\b \b|\b \b/\b \b-\b \b\\\b \b|\b \b/\b \b-\b \b\\\b \b|\b \b/\b \b-\b \b\\\b \b|\b \b/\b \b-\b \b\\\b \b|\b \b/\b \b-\b \b\\\b \b|\b \b/\b \b-\b \b\\\b \b|\b \b/\b \b-\b \b\\\b \bdone\r\n",
      "\u001b[?25h  Found existing installation: cryptography 1.5\r\n",
      "    Uninstalling cryptography-1.5:\r\n",
      "      Successfully uninstalled cryptography-1.5\r\n",
      "  Running setup.py install for cryptography ... \u001b[?25l-\b \b\\\b \b|\b \b/\b \b-\b \b\\\b \b|\b \b/\b \b-\b \b\\\b \bdone\r\n",
      "\u001b[?25hSuccessfully installed ansible-2.1.2.0 cryptography-1.5.2 setuptools-28.5.0\r\n"
     ]
    }
   ],
   "source": [
    "sudo pip install --upgrade ansible"
   ]
  },
  {
   "cell_type": "code",
   "execution_count": 4,
   "metadata": {
    "collapsed": false
   },
   "outputs": [
    {
     "name": "stdout",
     "output_type": "stream",
     "text": [
      "ansible 2.1.2.0\r\n",
      "  config file = \r\n",
      "  configured module search path = Default w/o overrides\r\n"
     ]
    }
   ],
   "source": [
    "ansible --version"
   ]
  },
  {
   "cell_type": "markdown",
   "metadata": {},
   "source": [
    "Einrichten einer Inventorydatei.\n",
    "\n",
    "http://docs.ansible.com/ansible/intro_inventory.html"
   ]
  },
  {
   "cell_type": "code",
   "execution_count": 5,
   "metadata": {
    "collapsed": false
   },
   "outputs": [
    {
     "name": "stdout",
     "output_type": "stream",
     "text": [
      "insgesamt 12K\r\n",
      "525129 drwxr-xr-x   3 root root 4,0K Sep 21 17:17 .\r\n",
      "262145 drwxr-xr-x 115 root root 4,0K Okt 15 21:36 ..\r\n",
      "525175 drwxr-xr-x  10 root root 4,0K Sep 29 15:11 roles\r\n"
     ]
    }
   ],
   "source": [
    "ls -lachi /etc/ansible/"
   ]
  },
  {
   "cell_type": "code",
   "execution_count": 6,
   "metadata": {
    "collapsed": false
   },
   "outputs": [
    {
     "name": "stdout",
     "output_type": "stream",
     "text": []
    }
   ],
   "source": [
    "sudo cp /vagrant/hosts /etc/ansible"
   ]
  },
  {
   "cell_type": "code",
   "execution_count": 7,
   "metadata": {
    "collapsed": false
   },
   "outputs": [
    {
     "name": "stdout",
     "output_type": "stream",
     "text": [
      "[local]\r\n",
      "localhost     ansible_connection=local\r\n",
      "\r\n",
      "[www]\r\n",
      "192.168.60.11 ansible_ssh_user=vagrant\r\n",
      "192.168.60.12 ansible_ssh_user=vagrant\r\n",
      "192.168.60.13 ansible_ssh_user=vagrant\r\n",
      "\r\n",
      "[lb]\r\n",
      "192.168.60.2 ansible_ssh_user=vagrant\r\n",
      "\r\n",
      "[db]\r\n",
      "192.168.60.21 ansible_ssh_user=vagrant\r\n",
      "192.168.60.22 ansible_ssh_user=vagrant\r\n"
     ]
    }
   ],
   "source": [
    "cat /etc/ansible/hosts"
   ]
  },
  {
   "cell_type": "code",
   "execution_count": 8,
   "metadata": {
    "collapsed": false
   },
   "outputs": [
    {
     "name": "stdout",
     "output_type": "stream",
     "text": [
      "localhost | SUCCESS => {\r\n",
      "    \"changed\": false, \r\n",
      "    \"ping\": \"pong\"\r\n",
      "}\r\n"
     ]
    }
   ],
   "source": [
    "ansible local -m ping"
   ]
  },
  {
   "cell_type": "markdown",
   "metadata": {},
   "source": [
    "Erstellen eines ssh-key ohne Nachfrage. Ein evtl. existierender Schlüssel wird gelöscht.\n",
    "\n",
    "ACHTUNG: Nicht für produktiv Systeme. Hier besser mit Variablen arbeiten.\n",
    "\n",
    "Wegen ENV Siehe auch: https://12factor.net/de/\n",
    "\n",
    "ToDO. Hier mit ENV zeigen.\n",
    "\n",
    "SSH_PASSPHRASE=geheim"
   ]
  },
  {
   "cell_type": "code",
   "execution_count": 9,
   "metadata": {
    "collapsed": false
   },
   "outputs": [
    {
     "name": "stdout",
     "output_type": "stream",
     "text": [
      "Generating public/private rsa key pair.\r\n",
      "Your identification has been saved in /home/vagrant/.ssh/id_rsa.\r\n",
      "Your public key has been saved in /home/vagrant/.ssh/id_rsa.pub.\r\n",
      "The key fingerprint is:\r\n",
      "SHA256:Ycn+Ezz9avfYnhbmGjVGAJdLszSMz1IG6jAv/V52EYk vagrant@ctl\r\n",
      "The key's randomart image is:\r\n",
      "+---[RSA 2048]----+\r\n",
      "|           o=o.  |\r\n",
      "|       . ....Xo .|\r\n",
      "|       o=.  BE=+ |\r\n",
      "|       o*o o =. .|\r\n",
      "|       .S++ o  = |\r\n",
      "|        ...o .ooo|\r\n",
      "|          o. ++..|\r\n",
      "|          ..+.+=.|\r\n",
      "|           o.o+++|\r\n",
      "+----[SHA256]-----+\r\n"
     ]
    }
   ],
   "source": [
    "if [ -f ~/.ssh/id_rsa ]; then rm ~/.ssh/id_rsa*; fi && ssh-keygen -t rsa -f ~/.ssh/id_rsa -N geheim"
   ]
  },
  {
   "cell_type": "markdown",
   "metadata": {},
   "source": [
    "Automatisches verteilen mit ssh-cop-id\n",
    "\n",
    "http://serverfault.com/questions/306541/automating-ssh-copy-id"
   ]
  },
  {
   "cell_type": "markdown",
   "metadata": {},
   "source": [
    "Den Rechner mit der IP 192.168.60.2 in der Datei `known_hosts` löschen."
   ]
  },
  {
   "cell_type": "code",
   "execution_count": 11,
   "metadata": {
    "collapsed": false
   },
   "outputs": [
    {
     "name": "stdout",
     "output_type": "stream",
     "text": [
      "do_known_hosts: hostkeys_foreach failed: No such file or directory\r",
      "\r\n"
     ]
    }
   ],
   "source": [
    "ssh-keygen -R 192.168.60.2"
   ]
  },
  {
   "cell_type": "markdown",
   "metadata": {},
   "source": [
    "Can I automatically add a new host to known_hosts?\n",
    "\n",
    "http://serverfault.com/questions/132970/can-i-automatically-add-a-new-host-to-known-hosts\n",
    "\n",
    "Nur etwas, wenn dem Netz vetraut wird. NICHT FÜR PRODUKTIV SYSTEME!"
   ]
  },
  {
   "cell_type": "code",
   "execution_count": 12,
   "metadata": {
    "collapsed": false
   },
   "outputs": [
    {
     "name": "stdout",
     "output_type": "stream",
     "text": [
      "# 192.168.60.2:22 SSH-2.0-OpenSSH_7.2p2 Ubuntu-4ubuntu2.1\r\n",
      "# 192.168.60.2:22 SSH-2.0-OpenSSH_7.2p2 Ubuntu-4ubuntu2.1\r\n",
      "# 192.168.60.2:22 SSH-2.0-OpenSSH_7.2p2 Ubuntu-4ubuntu2.1\r\n"
     ]
    }
   ],
   "source": [
    "ssh-keyscan -H 192.168.60.2 >> ~/.ssh/known_hosts"
   ]
  },
  {
   "cell_type": "code",
   "execution_count": 13,
   "metadata": {
    "collapsed": false
   },
   "outputs": [
    {
     "name": "stdout",
     "output_type": "stream",
     "text": [
      "|1|P8I6Mt2vBKHT66gtERqcBHD96kk=|bT9TxJc0dTgcr/HsnW03UHO3pzQ= ecdsa-sha2-nistp256 AAAAE2VjZHNhLXNoYTItbmlzdHAyNTYAAAAIbmlzdHAyNTYAAABBBOUj8l+Ejj53rTy5+9bMcbINLRZ6UFxaK6fRE6uklH7YvPh08DepyspTONUWuwwYSwJuHBldP8Joafx5jNuW2sI=\r\n",
      "|1|VcU7J3x6HDTTWMaDnZV8VC8udP4=|ZyfzS78SrSOktj/pMU7t4PNmYxQ= ssh-rsa AAAAB3NzaC1yc2EAAAADAQABAAABAQDU171qwSgbEtEal2fCozSU7wsNRzA2H/DuUaLku6xRazRkfQZnFHcDn5pFk/GhHLTCwDRXz7nnnbBFFJK3jr03AsOr6rtqJuojQEIh1Yz1wKI4Dvvawteb8UnveKcef7OGs6a2nphGC+ZYX8txu+gdSF9HNVxGbUyFtbNeKRpAPCRgAkHfh1stxwPK8BQiaPQbEHSWzPer1G38Qsq1QzbKXWrizU057i5pw38cdRQ8CaVYe9u+rUnNEOfGjpESh06lb1vdZDEmily7D0jWDW7+Tw7hbr3uw+wUiJaVEGrBbQQotIqcrWTz6AqrwXKdZpklJZkcPx5JGS3Ym13AUBDB\r\n",
      "|1|yT+jo2acKu/kz3SadsT5S3GmMjw=|Z99P6GkKWwrjctj27r1aET2TYDE= ssh-ed25519 AAAAC3NzaC1lZDI1NTE5AAAAIAc42trNYnv58q3PiJSJ+lLhkHY9NOX4kVrrJdC8fJLf\r\n"
     ]
    }
   ],
   "source": [
    "cat ~/.ssh/known_hosts"
   ]
  },
  {
   "cell_type": "markdown",
   "metadata": {},
   "source": [
    "SSH Schlüssel verteilen ohne Passwortabfrage."
   ]
  },
  {
   "cell_type": "code",
   "execution_count": 14,
   "metadata": {
    "collapsed": false
   },
   "outputs": [
    {
     "name": "stdout",
     "output_type": "stream",
     "text": [
      "\r",
      "0% [Wird verarbeitet]\r",
      "                     \r",
      "Holen:1 http://security.ubuntu.com/ubuntu xenial-security InRelease [94,5 kB]\r\n",
      "\r",
      "0% [Warten auf Kopfzeilen] [1 InRelease 14,0 kB/94,5 kB 15%] [Warten auf Kopfze\r",
      "                                                                               \r",
      "OK:2 http://de.archive.ubuntu.com/ubuntu xenial InRelease\r\n",
      "\r",
      "0% [Warten auf Kopfzeilen] [1 InRelease 34,0 kB/94,5 kB 36%] [Warten auf Kopfze\r",
      "                                                                               \r",
      "OK:3 http://ppa.launchpad.net/chronitis/jupyter/ubuntu xenial InRelease\r\n",
      "\r",
      "0% [Warten auf Kopfzeilen] [1 InRelease 34,0 kB/94,5 kB 36%] [Warten auf Kopfze\r",
      "0% [2 InRelease gpgv 247 kB] [Warten auf Kopfzeilen] [1 InRelease 39,7 kB/94,5 \r",
      "                                                                               \r",
      "OK:4 http://de.archive.ubuntu.com/ubuntu xenial-updates InRelease\r\n",
      "\r",
      "                                                                               \r",
      "OK:5 http://ppa.launchpad.net/nginx/stable/ubuntu xenial InRelease\r\n",
      "\r",
      "0% [2 InRelease gpgv 247 kB] [Warten auf Kopfzeilen] [1 InRelease 45,4 kB/94,5 \r",
      "                                                                               \r",
      "Ign:6 http://repo.mongodb.org/apt/ubuntu trusty/mongodb-org/3.2 InRelease\r\n",
      "\r",
      "0% [2 InRelease gpgv 247 kB] [Warten auf Kopfzeilen] [1 InRelease 46,8 kB/94,5 \r",
      "                                                                               \r",
      "OK:7 http://repo.mongodb.org/apt/ubuntu trusty/mongodb-org/3.2 Release\r\n",
      "\r",
      "0% [2 InRelease gpgv 247 kB] [Warten auf Kopfzeilen] [1 InRelease 92,5 kB/94,5 \r",
      "                                                                               \r",
      "OK:8 http://ppa.launchpad.net/nijel/phpmyadmin/ubuntu xenial InRelease\r\n",
      "\r",
      "0% [2 InRelease gpgv 247 kB] [Warten auf Kopfzeilen] [1 InRelease 94,5 kB/94,5 \r",
      "                                                                               \r",
      "0% [2 InRelease gpgv 247 kB] [Warten auf Kopfzeilen]\r",
      "                                                    \r",
      "OK:9 http://de.archive.ubuntu.com/ubuntu xenial-backports InRelease\r\n",
      "\r",
      "                                                    \r",
      "0% [2 InRelease gpgv 247 kB]\r",
      "                            \r",
      "0% [Wird verarbeitet]\r",
      "0% [3 InRelease gpgv 18,1 kB]\r",
      "                             \r",
      "0% [Wird verarbeitet]\r",
      "0% [4 InRelease gpgv 95,7 kB]\r",
      "                             \r",
      "OK:10 https://apt.dockerproject.org/repo ubuntu-xenial InRelease\r\n",
      "\r",
      "0% [4 InRelease gpgv 95,7 kB]\r",
      "                             \r",
      "OK:11 https://deb.nodesource.com/node_4.x xenial InRelease\r\n",
      "\r",
      "0% [4 InRelease gpgv 95,7 kB]\r",
      "                             \r",
      "0% [Wird verarbeitet]\r",
      "0% [5 InRelease gpgv 17,5 kB]\r",
      "                             \r",
      "0% [Wird verarbeitet]\r",
      "0% [Release.gpg gpgv 3.462 B]\r",
      "                             \r",
      "0% [Wird verarbeitet]\r",
      "0% [8 InRelease gpgv 17,5 kB]\r",
      "                             \r",
      "0% [Wird verarbeitet]\r",
      "0% [1 InRelease gpgv 94,5 kB]\r",
      "                             \r",
      "0% [Wird verarbeitet]\r",
      "0% [9 InRelease gpgv 92,2 kB]\r",
      "                             \r",
      "0% [Wird verarbeitet]\r",
      "0% [10 InRelease gpgv 30,2 kB]\r",
      "                              \r",
      "0% [Wird verarbeitet]\r",
      "0% [11 InRelease gpgv 3.914 B]\r",
      "                              \r",
      "100% [Wird verarbeitet]\r",
      "                       \r",
      "Es wurden 94,5 kB in 1 s geholt (50,3 kB/s).\r\n",
      "\r",
      "Paketlisten werden gelesen... 0%\r",
      "\r",
      "Paketlisten werden gelesen... 0%\r",
      "\r",
      "Paketlisten werden gelesen... 1%\r",
      "\r",
      "Paketlisten werden gelesen... 4%\r",
      "\r",
      "Paketlisten werden gelesen... 4%\r",
      "\r",
      "Paketlisten werden gelesen... 9%\r",
      "\r",
      "Paketlisten werden gelesen... 9%\r",
      "\r",
      "Paketlisten werden gelesen... 11%\r",
      "\r",
      "Paketlisten werden gelesen... 11%\r",
      "\r",
      "Paketlisten werden gelesen... 13%\r",
      "\r",
      "Paketlisten werden gelesen... 13%\r",
      "\r",
      "Paketlisten werden gelesen... 13%\r",
      "\r",
      "Paketlisten werden gelesen... 13%\r",
      "\r",
      "Paketlisten werden gelesen... 13%\r",
      "\r",
      "Paketlisten werden gelesen... 13%\r",
      "\r",
      "Paketlisten werden gelesen... 13%\r",
      "\r",
      "Paketlisten werden gelesen... 13%\r",
      "\r",
      "Paketlisten werden gelesen... 13%\r",
      "\r",
      "Paketlisten werden gelesen... 13%\r",
      "\r",
      "Paketlisten werden gelesen... 19%\r",
      "\r",
      "Paketlisten werden gelesen... 30%\r",
      "\r",
      "Paketlisten werden gelesen... 39%\r",
      "\r",
      "Paketlisten werden gelesen... 40%\r",
      "\r",
      "Paketlisten werden gelesen... 40%\r",
      "\r",
      "Paketlisten werden gelesen... 51%\r",
      "\r",
      "Paketlisten werden gelesen... 63%\r",
      "\r",
      "Paketlisten werden gelesen... 66%\r",
      "\r",
      "Paketlisten werden gelesen... 66%\r",
      "\r",
      "Paketlisten werden gelesen... 72%\r",
      "\r",
      "Paketlisten werden gelesen... 72%\r",
      "\r",
      "Paketlisten werden gelesen... 80%\r",
      "\r",
      "Paketlisten werden gelesen... 87%\r",
      "\r",
      "Paketlisten werden gelesen... 87%\r",
      "\r",
      "Paketlisten werden gelesen... 88%\r",
      "\r",
      "Paketlisten werden gelesen... 88%\r",
      "\r",
      "Paketlisten werden gelesen... 88%\r",
      "\r",
      "Paketlisten werden gelesen... 88%\r",
      "\r",
      "Paketlisten werden gelesen... 88%\r",
      "\r",
      "Paketlisten werden gelesen... 88%\r",
      "\r",
      "Paketlisten werden gelesen... 89%\r",
      "\r",
      "Paketlisten werden gelesen... 89%\r",
      "\r",
      "Paketlisten werden gelesen... 90%\r",
      "\r",
      "Paketlisten werden gelesen... 90%\r",
      "\r",
      "Paketlisten werden gelesen... 92%\r",
      "\r",
      "Paketlisten werden gelesen... 92%\r",
      "\r",
      "Paketlisten werden gelesen... 93%\r",
      "\r",
      "Paketlisten werden gelesen... 93%\r",
      "\r",
      "Paketlisten werden gelesen... 94%\r",
      "\r",
      "Paketlisten werden gelesen... 94%\r",
      "\r",
      "Paketlisten werden gelesen... 95%\r",
      "\r",
      "Paketlisten werden gelesen... 96%\r",
      "\r",
      "Paketlisten werden gelesen... 96%\r",
      "\r",
      "Paketlisten werden gelesen... 96%\r",
      "\r",
      "Paketlisten werden gelesen... 96%\r",
      "\r",
      "Paketlisten werden gelesen... 96%\r",
      "\r",
      "Paketlisten werden gelesen... 96%\r",
      "\r",
      "Paketlisten werden gelesen... 96%\r",
      "\r",
      "Paketlisten werden gelesen... 96%\r",
      "\r",
      "Paketlisten werden gelesen... 96%\r",
      "\r",
      "Paketlisten werden gelesen... 96%\r",
      "\r",
      "Paketlisten werden gelesen... 96%\r",
      "\r",
      "Paketlisten werden gelesen... 96%\r",
      "\r",
      "Paketlisten werden gelesen... 96%\r",
      "\r",
      "Paketlisten werden gelesen... 96%\r",
      "\r",
      "Paketlisten werden gelesen... 96%\r",
      "\r",
      "Paketlisten werden gelesen... 96%\r",
      "\r",
      "Paketlisten werden gelesen... 96%\r",
      "\r",
      "Paketlisten werden gelesen... 96%\r",
      "\r",
      "Paketlisten werden gelesen... 96%\r",
      "\r",
      "Paketlisten werden gelesen... 96%\r",
      "\r",
      "Paketlisten werden gelesen... 96%\r",
      "\r",
      "Paketlisten werden gelesen... 96%\r",
      "\r",
      "Paketlisten werden gelesen... 97%\r",
      "\r",
      "Paketlisten werden gelesen... 97%\r",
      "\r",
      "Paketlisten werden gelesen... 98%\r",
      "\r",
      "Paketlisten werden gelesen... 98%\r",
      "\r",
      "Paketlisten werden gelesen... 98%\r",
      "\r",
      "Paketlisten werden gelesen... 98%\r",
      "\r",
      "Paketlisten werden gelesen... 98%\r",
      "\r",
      "Paketlisten werden gelesen... 98%\r",
      "\r",
      "Paketlisten werden gelesen... 98%\r",
      "\r",
      "Paketlisten werden gelesen... 98%\r",
      "\r",
      "Paketlisten werden gelesen... 99%\r",
      "\r",
      "Paketlisten werden gelesen... 99%\r",
      "\r",
      "Paketlisten werden gelesen... 99%\r",
      "\r",
      "Paketlisten werden gelesen... 99%\r",
      "\r",
      "Paketlisten werden gelesen... 99%\r",
      "\r",
      "Paketlisten werden gelesen... 99%\r",
      "\r",
      "Paketlisten werden gelesen... 99%\r",
      "\r",
      "Paketlisten werden gelesen... 99%\r",
      "\r",
      "Paketlisten werden gelesen... 99%\r",
      "\r",
      "Paketlisten werden gelesen... 99%\r",
      "\r",
      "Paketlisten werden gelesen... 99%\r",
      "\r",
      "Paketlisten werden gelesen... 99%\r",
      "\r",
      "Paketlisten werden gelesen... 99%\r",
      "\r",
      "Paketlisten werden gelesen... 99%\r",
      "\r",
      "Paketlisten werden gelesen... 99%\r",
      "\r",
      "Paketlisten werden gelesen... 99%\r",
      "\r",
      "Paketlisten werden gelesen... 99%\r",
      "\r",
      "Paketlisten werden gelesen... 99%\r",
      "\r",
      "Paketlisten werden gelesen... 99%\r",
      "\r",
      "Paketlisten werden gelesen... 99%\r",
      "\r",
      "Paketlisten werden gelesen... 99%\r",
      "\r",
      "Paketlisten werden gelesen... 99%\r",
      "\r",
      "Paketlisten werden gelesen... 99%\r",
      "\r",
      "Paketlisten werden gelesen... 99%\r",
      "\r",
      "Paketlisten werden gelesen... 99%\r",
      "\r",
      "Paketlisten werden gelesen... 99%\r",
      "\r",
      "Paketlisten werden gelesen... 99%\r",
      "\r",
      "Paketlisten werden gelesen... 99%\r",
      "\r",
      "Paketlisten werden gelesen... 99%\r",
      "\r",
      "Paketlisten werden gelesen... 99%\r",
      "\r",
      "Paketlisten werden gelesen... 99%\r",
      "\r",
      "Paketlisten werden gelesen... 99%\r",
      "\r",
      "Paketlisten werden gelesen... 99%\r",
      "\r",
      "Paketlisten werden gelesen... 99%\r",
      "\r",
      "Paketlisten werden gelesen... Fertig\r",
      "\r\n",
      "\r",
      "Paketlisten werden gelesen... 0%\r",
      "\r",
      "Paketlisten werden gelesen... 100%\r",
      "\r",
      "Paketlisten werden gelesen... Fertig\r",
      "\r\n",
      "\r",
      "Abhängigkeitsbaum wird aufgebaut.... 0%\r",
      "\r",
      "Abhängigkeitsbaum wird aufgebaut.... 0%\r",
      "\r",
      "Abhängigkeitsbaum wird aufgebaut.... 50%\r",
      "\r",
      "Abhängigkeitsbaum wird aufgebaut.... 50%\r",
      "\r",
      "Abhängigkeitsbaum wird aufgebaut.... 88%\r",
      "\r",
      "Abhängigkeitsbaum wird aufgebaut.       \r",
      "\r\n",
      "\r",
      "Statusinformationen werden eingelesen.... 0%\r",
      "\r",
      "Statusinformationen werden eingelesen.... 0%\r",
      "\r",
      "Statusinformationen werden eingelesen.... Fertig\r",
      "\r\n",
      "Die folgenden NEUEN Pakete werden installiert:\r\n",
      "  sshpass\r\n",
      "0 aktualisiert, 1 neu installiert, 0 zu entfernen und 56 nicht aktualisiert.\r\n",
      "Es müssen 10,5 kB an Archiven heruntergeladen werden.\r\n",
      "Nach dieser Operation werden 56,3 kB Plattenplatz zusätzlich benutzt.\r\n",
      "\r",
      "0% [Wird verarbeitet]\r",
      "                     \r",
      "Holen:1 http://de.archive.ubuntu.com/ubuntu xenial/universe amd64 sshpass amd64 1.05-1 [10,5 kB]\r\n",
      "\r",
      "20% [1 sshpass 2.606 B/10,5 kB 25%]\r",
      "                                   \r",
      "100% [Wird verarbeitet]\r",
      "                       \r",
      "Es wurden 10,5 kB in 0 s geholt (112 kB/s).\r\n",
      "debconf: kann Oberfläche nicht initialisieren: Dialog\r\n",
      "debconf: (Die Dialog-Oberfläche funktioniert nicht auf einem Dumb-Terminal, einem Emacs-Shellbuffer oder ohne ein steuerndes Terminal.)\r\n",
      "debconf: greife zurück auf die Oberfläche: Readline\r\n",
      "Vormals nicht ausgewähltes Paket sshpass wird gewählt.\r\n",
      "(Lese Datenbank ... \r",
      "(Lese Datenbank ... 5%\r",
      "(Lese Datenbank ... 10%\r",
      "(Lese Datenbank ... 15%\r",
      "(Lese Datenbank ... 20%\r",
      "(Lese Datenbank ... 25%\r",
      "(Lese Datenbank ... 30%\r",
      "(Lese Datenbank ... 35%\r",
      "(Lese Datenbank ... 40%\r",
      "(Lese Datenbank ... 45%\r",
      "(Lese Datenbank ... 50%\r",
      "(Lese Datenbank ... 55%\r",
      "(Lese Datenbank ... 60%\r",
      "(Lese Datenbank ... 65%\r",
      "(Lese Datenbank ... 70%\r",
      "(Lese Datenbank ... 75%\r",
      "(Lese Datenbank ... 80%\r",
      "(Lese Datenbank ... 85%\r",
      "(Lese Datenbank ... 90%\r",
      "(Lese Datenbank ... 95%\r",
      "(Lese Datenbank ... 100%\r",
      "(Lese Datenbank ... 216383 Dateien und Verzeichnisse sind derzeit installiert.)\r\n",
      "Vorbereitung zum Entpacken von .../sshpass_1.05-1_amd64.deb ...\r\n",
      "Entpacken von sshpass (1.05-1) ...\r\n",
      "Trigger für man-db (2.7.5-1) werden verarbeitet ...\r\n",
      "sshpass (1.05-1) wird eingerichtet ...\r\n"
     ]
    }
   ],
   "source": [
    "sudo apt-get update\n",
    "sudo apt-get install -y sshpass"
   ]
  },
  {
   "cell_type": "code",
   "execution_count": 15,
   "metadata": {
    "collapsed": false
   },
   "outputs": [
    {
     "name": "stdout",
     "output_type": "stream",
     "text": [
      "/usr/bin/ssh-copy-id: INFO: Source of key(s) to be installed: \"/home/vagrant/.ssh/id_rsa.pub\"\r\n",
      "/usr/bin/ssh-copy-id: INFO: attempting to log in with the new key(s), to filter out any that are already installed\r\n",
      "/usr/bin/ssh-copy-id: INFO: 1 key(s) remain to be installed -- if you are prompted now it is to install the new keys\r\n",
      "\r\n",
      "Number of key(s) added: 1\r\n",
      "\r\n",
      "Now try logging into the machine, with:   \"ssh 'vagrant@192.168.60.2'\"\r\n",
      "and check to make sure that only the key(s) you wanted were added.\r\n",
      "\r\n"
     ]
    }
   ],
   "source": [
    "echo 'vagrant' > passwort\n",
    "sshpass -f passwort ssh-copy-id vagrant@192.168.60.2"
   ]
  },
  {
   "cell_type": "markdown",
   "metadata": {},
   "source": [
    "Da wir keine passphrase in jupyter eingeben können hier ein Workaround. Mit dem Kommando expect.\n",
    "\n",
    "https://wiki.ubuntuusers.de/Tcl/#Installation-ueber-Download"
   ]
  },
  {
   "cell_type": "code",
   "execution_count": 16,
   "metadata": {
    "collapsed": false
   },
   "outputs": [
    {
     "name": "stdout",
     "output_type": "stream",
     "text": [
      "\r",
      "Paketlisten werden gelesen... 0%\r",
      "\r",
      "Paketlisten werden gelesen... 100%\r",
      "\r",
      "Paketlisten werden gelesen... Fertig\r",
      "\r\n",
      "\r",
      "Abhängigkeitsbaum wird aufgebaut.... 0%\r",
      "\r",
      "Abhängigkeitsbaum wird aufgebaut.... 0%\r",
      "\r",
      "Abhängigkeitsbaum wird aufgebaut.... 50%\r",
      "\r",
      "Abhängigkeitsbaum wird aufgebaut.... 50%\r",
      "\r",
      "Abhängigkeitsbaum wird aufgebaut.... 95%\r",
      "\r",
      "Abhängigkeitsbaum wird aufgebaut.       \r",
      "\r\n",
      "\r",
      "Statusinformationen werden eingelesen.... 0%\r",
      "\r",
      "Statusinformationen werden eingelesen.... 0%\r",
      "\r",
      "Statusinformationen werden eingelesen.... Fertig\r",
      "\r\n",
      "Die folgenden zusätzlichen Pakete werden Installiert\r\n",
      "  tcl-expect\r\n",
      "Die folgenden NEUEN Pakete werden installiert:\r\n",
      "  expect tcl-expect\r\n",
      "0 aktualisiert, 2 neu installiert, 0 zu entfernen und 56 nicht aktualisiert.\r\n",
      "Es müssen 241 kB an Archiven heruntergeladen werden.\r\n",
      "Nach dieser Operation werden 538 kB Plattenplatz zusätzlich benutzt.\r\n",
      "\r",
      "0% [Wird verarbeitet]\r",
      "                     \r",
      "Holen:1 http://de.archive.ubuntu.com/ubuntu xenial/universe amd64 tcl-expect amd64 5.45-7 [104 kB]\r\n",
      "\r",
      "0% [1 tcl-expect 1.164 B/104 kB 1%]\r",
      "                                   \r",
      "44% [Warten auf Kopfzeilen]\r",
      "                           \r",
      "Holen:2 http://de.archive.ubuntu.com/ubuntu xenial/universe amd64 expect amd64 5.45-7 [137 kB]\r\n",
      "\r",
      "45% [2 expect 2.604 B/137 kB 2%]\r",
      "                                \r",
      "100% [Wird verarbeitet]\r",
      "                       \r",
      "Es wurden 241 kB in 0 s geholt (740 kB/s).\r\n",
      "debconf: kann Oberfläche nicht initialisieren: Dialog\r\n",
      "debconf: (Die Dialog-Oberfläche funktioniert nicht auf einem Dumb-Terminal, einem Emacs-Shellbuffer oder ohne ein steuerndes Terminal.)\r\n",
      "debconf: greife zurück auf die Oberfläche: Readline\r\n",
      "Vormals nicht ausgewähltes Paket tcl-expect:amd64 wird gewählt.\r\n",
      "(Lese Datenbank ... \r",
      "(Lese Datenbank ... 5%\r",
      "(Lese Datenbank ... 10%\r",
      "(Lese Datenbank ... 15%\r",
      "(Lese Datenbank ... 20%\r",
      "(Lese Datenbank ... 25%\r",
      "(Lese Datenbank ... 30%\r",
      "(Lese Datenbank ... 35%\r",
      "(Lese Datenbank ... 40%\r",
      "(Lese Datenbank ... 45%\r",
      "(Lese Datenbank ... 50%\r",
      "(Lese Datenbank ... 55%\r",
      "(Lese Datenbank ... 60%\r",
      "(Lese Datenbank ... 65%\r",
      "(Lese Datenbank ... 70%\r",
      "(Lese Datenbank ... 75%\r",
      "(Lese Datenbank ... 80%\r",
      "(Lese Datenbank ... 85%\r",
      "(Lese Datenbank ... 90%\r",
      "(Lese Datenbank ... 95%\r",
      "(Lese Datenbank ... 100%\r",
      "(Lese Datenbank ... 216388 Dateien und Verzeichnisse sind derzeit installiert.)\r\n",
      "Vorbereitung zum Entpacken von .../tcl-expect_5.45-7_amd64.deb ...\r\n",
      "Entpacken von tcl-expect:amd64 (5.45-7) ...\r\n",
      "Vormals nicht ausgewähltes Paket expect wird gewählt.\r\n",
      "Vorbereitung zum Entpacken von .../expect_5.45-7_amd64.deb ...\r\n",
      "Entpacken von expect (5.45-7) ...\r\n",
      "Trigger für libc-bin (2.23-0ubuntu3) werden verarbeitet ...\r\n",
      "Trigger für man-db (2.7.5-1) werden verarbeitet ...\r\n",
      "tcl-expect:amd64 (5.45-7) wird eingerichtet ...\r\n",
      "expect (5.45-7) wird eingerichtet ...\r\n",
      "Trigger für libc-bin (2.23-0ubuntu3) werden verarbeitet ...\r\n"
     ]
    }
   ],
   "source": [
    "sudo apt-get install -y expect"
   ]
  },
  {
   "cell_type": "code",
   "execution_count": 17,
   "metadata": {
    "collapsed": false
   },
   "outputs": [
    {
     "name": "stdout",
     "output_type": "stream",
     "text": []
    }
   ],
   "source": [
    "cp /vagrant/ssh-add-passphrase.sh ./\n",
    "chmod u+x ssh-add-passphrase.sh"
   ]
  },
  {
   "cell_type": "code",
   "execution_count": 18,
   "metadata": {
    "collapsed": false
   },
   "outputs": [
    {
     "name": "stdout",
     "output_type": "stream",
     "text": [
      "#!/usr/bin/expect -f\r\n",
      "spawn ssh-add /home/vagrant/.ssh/id_rsa\r\n",
      "expect \"Enter passphrase for /home/vagrant/.ssh/id_rsa:\"\r\n",
      "send \"geheim\\n\";\r\n",
      "interact\r\n"
     ]
    }
   ],
   "source": [
    "cat ssh-add-passphrase.sh"
   ]
  },
  {
   "cell_type": "code",
   "execution_count": 19,
   "metadata": {
    "collapsed": false
   },
   "outputs": [
    {
     "name": "stdout",
     "output_type": "stream",
     "text": [
      "spawn ssh-add /home/vagrant/.ssh/id_rsa\r",
      "\r",
      "\r\n",
      "Enter passphrase for /home/vagrant/.ssh/id_rsa: \r\n",
      "Identity added: /home/vagrant/.ssh/id_rsa (/home/vagrant/.ssh/id_rsa)\r\n"
     ]
    }
   ],
   "source": [
    "eval `ssh-agent -s` > /dev/null\n",
    "./ssh-add-passphrase.sh"
   ]
  },
  {
   "cell_type": "code",
   "execution_count": 20,
   "metadata": {
    "collapsed": false
   },
   "outputs": [
    {
     "name": "stdout",
     "output_type": "stream",
     "text": [
      "SSH_AGENT_PID=6657\r\n",
      "XDG_SESSION_ID=c1\r\n",
      "SHELL=/bin/bash\r\n",
      "USER=vagrant\r\n",
      "LS_COLORS=\r\n",
      "SSH_AUTH_SOCK=/tmp/ssh-vHzlQtH7bjYk/agent.6656\r\n",
      "JPY_PARENT_PID=1353\r\n",
      "PAGER=cat\r\n",
      "PATH=/home/vagrant/.gem/ruby/2.3.0/bin:/home/vagrant/bin:/home/vagrant/.local/bin:/usr/local/lib/npm/bin:/usr/local/bin:/usr/bin:/bin:/usr/local/games:/usr/games:/snap/bin\r\n",
      "MAIL=/var/mail/vagrant\r\n",
      "NPM_CONFIG_PREFIX=/usr/local/lib/npm\r\n",
      "PWD=/home/vagrant/projects\r\n",
      "LANG=de_DE.UTF-8\r\n",
      "NODE_PATH=/usr/lib/nodejs:/usr/lib/node_modules:/usr/share/javascript:/usr/local/lib/npm/lib/node_modules\r\n",
      "PS1=[PEXP\\[\\]ECT_PROMPT>\r\n",
      "SHLVL=2\r\n",
      "HOME=/home/vagrant\r\n",
      "LOGNAME=vagrant\r\n",
      "LESSOPEN=| /usr/bin/lesspipe %s\r\n",
      "XDG_RUNTIME_DIR=/run/user/1000\r\n",
      "LESSCLOSE=/usr/bin/lesspipe %s %s\r\n",
      "_=/usr/bin/env\r\n"
     ]
    }
   ],
   "source": [
    "env"
   ]
  },
  {
   "cell_type": "code",
   "execution_count": 21,
   "metadata": {
    "collapsed": false
   },
   "outputs": [
    {
     "name": "stdout",
     "output_type": "stream",
     "text": [
      "2048 SHA256:Ycn+Ezz9avfYnhbmGjVGAJdLszSMz1IG6jAv/V52EYk /home/vagrant/.ssh/id_rsa (RSA)\r\n"
     ]
    }
   ],
   "source": [
    "ssh-add -l"
   ]
  },
  {
   "cell_type": "code",
   "execution_count": 22,
   "metadata": {
    "collapsed": false
   },
   "outputs": [
    {
     "name": "stdout",
     "output_type": "stream",
     "text": [
      "192.168.60.2 | SUCCESS => {\r\n",
      "    \"changed\": false, \r\n",
      "    \"ping\": \"pong\"\r\n",
      "}\r\n"
     ]
    }
   ],
   "source": [
    "ansible lb -m ping"
   ]
  },
  {
   "cell_type": "markdown",
   "metadata": {},
   "source": [
    "For Schleife in der Bash. Achtung erst die Maschienen einfügen und dann den Schlüssel verteilen."
   ]
  },
  {
   "cell_type": "code",
   "execution_count": 23,
   "metadata": {
    "collapsed": false
   },
   "outputs": [
    {
     "name": "stdout",
     "output_type": "stream",
     "text": [
      "# 192.168.60.11:22 SSH-2.0-OpenSSH_7.2p2 Ubuntu-4ubuntu2.1\r\n",
      "# 192.168.60.11:22 SSH-2.0-OpenSSH_7.2p2 Ubuntu-4ubuntu2.1\r\n",
      "# 192.168.60.11:22 SSH-2.0-OpenSSH_7.2p2 Ubuntu-4ubuntu2.1\r\n",
      "/usr/bin/ssh-copy-id: INFO: attempting to log in with the new key(s), to filter out any that are already installed\r\n",
      "/usr/bin/ssh-copy-id: INFO: 1 key(s) remain to be installed -- if you are prompted now it is to install the new keys\r\n",
      "\r\n",
      "Number of key(s) added: 1\r\n",
      "\r\n",
      "Now try logging into the machine, with:   \"ssh 'vagrant@192.168.60.11'\"\r\n",
      "and check to make sure that only the key(s) you wanted were added.\r\n",
      "\r\n",
      "# 192.168.60.12:22 SSH-2.0-OpenSSH_7.2p2 Ubuntu-4ubuntu2.1\r\n",
      "# 192.168.60.12:22 SSH-2.0-OpenSSH_7.2p2 Ubuntu-4ubuntu2.1\r\n",
      "# 192.168.60.12:22 SSH-2.0-OpenSSH_7.2p2 Ubuntu-4ubuntu2.1\r\n",
      "/usr/bin/ssh-copy-id: INFO: attempting to log in with the new key(s), to filter out any that are already installed\r\n",
      "/usr/bin/ssh-copy-id: INFO: 1 key(s) remain to be installed -- if you are prompted now it is to install the new keys\r\n",
      "\r\n",
      "Number of key(s) added: 1\r\n",
      "\r\n",
      "Now try logging into the machine, with:   \"ssh 'vagrant@192.168.60.12'\"\r\n",
      "and check to make sure that only the key(s) you wanted were added.\r\n",
      "\r\n",
      "# 192.168.60.13:22 SSH-2.0-OpenSSH_7.2p2 Ubuntu-4ubuntu2.1\r\n",
      "# 192.168.60.13:22 SSH-2.0-OpenSSH_7.2p2 Ubuntu-4ubuntu2.1\r\n",
      "# 192.168.60.13:22 SSH-2.0-OpenSSH_7.2p2 Ubuntu-4ubuntu2.1\r\n",
      "/usr/bin/ssh-copy-id: INFO: attempting to log in with the new key(s), to filter out any that are already installed\r\n",
      "/usr/bin/ssh-copy-id: INFO: 1 key(s) remain to be installed -- if you are prompted now it is to install the new keys\r\n",
      "\r\n",
      "Number of key(s) added: 1\r\n",
      "\r\n",
      "Now try logging into the machine, with:   \"ssh 'vagrant@192.168.60.13'\"\r\n",
      "and check to make sure that only the key(s) you wanted were added.\r\n",
      "\r\n",
      "# 192.168.60.21:22 SSH-2.0-OpenSSH_7.2p2 Ubuntu-4ubuntu2.1\r\n",
      "# 192.168.60.21:22 SSH-2.0-OpenSSH_7.2p2 Ubuntu-4ubuntu2.1\r\n",
      "# 192.168.60.21:22 SSH-2.0-OpenSSH_7.2p2 Ubuntu-4ubuntu2.1\r\n",
      "/usr/bin/ssh-copy-id: INFO: attempting to log in with the new key(s), to filter out any that are already installed\r\n",
      "/usr/bin/ssh-copy-id: INFO: 1 key(s) remain to be installed -- if you are prompted now it is to install the new keys\r\n",
      "\r\n",
      "Number of key(s) added: 1\r\n",
      "\r\n",
      "Now try logging into the machine, with:   \"ssh 'vagrant@192.168.60.21'\"\r\n",
      "and check to make sure that only the key(s) you wanted were added.\r\n",
      "\r\n",
      "# 192.168.60.22:22 SSH-2.0-OpenSSH_7.2p2 Ubuntu-4ubuntu2.1\r\n",
      "# 192.168.60.22:22 SSH-2.0-OpenSSH_7.2p2 Ubuntu-4ubuntu2.1\r\n",
      "# 192.168.60.22:22 SSH-2.0-OpenSSH_7.2p2 Ubuntu-4ubuntu2.1\r\n",
      "/usr/bin/ssh-copy-id: INFO: attempting to log in with the new key(s), to filter out any that are already installed\r\n",
      "/usr/bin/ssh-copy-id: INFO: 1 key(s) remain to be installed -- if you are prompted now it is to install the new keys\r\n",
      "\r\n",
      "Number of key(s) added: 1\r\n",
      "\r\n",
      "Now try logging into the machine, with:   \"ssh 'vagrant@192.168.60.22'\"\r\n",
      "and check to make sure that only the key(s) you wanted were added.\r\n",
      "\r\n"
     ]
    }
   ],
   "source": [
    "for i in 11 12 13 21 22\n",
    "do \n",
    "    ssh-keyscan -H 192.168.60.${i} >> ~/.ssh/known_hosts\n",
    "    sshpass -f passwort ssh-copy-id vagrant@192.168.60.${i}\n",
    "done"
   ]
  },
  {
   "cell_type": "code",
   "execution_count": 24,
   "metadata": {
    "collapsed": false
   },
   "outputs": [
    {
     "name": "stdout",
     "output_type": "stream",
     "text": [
      "192.168.60.2 | SUCCESS => {\r\n",
      "    \"changed\": false, \r\n",
      "    \"ping\": \"pong\"\r\n",
      "}\r\n",
      "192.168.60.21 | SUCCESS => {\r\n",
      "    \"changed\": false, \r\n",
      "    \"ping\": \"pong\"\r\n",
      "}\r\n",
      "192.168.60.22 | SUCCESS => {\r\n",
      "    \"changed\": false, \r\n",
      "    \"ping\": \"pong\"\r\n",
      "}\r\n",
      "192.168.60.12 | SUCCESS => {\r\n",
      "    \"changed\": false, \r\n",
      "    \"ping\": \"pong\"\r\n",
      "}\r\n",
      "192.168.60.11 | SUCCESS => {\r\n",
      "    \"changed\": false, \r\n",
      "    \"ping\": \"pong\"\r\n",
      "}\r\n",
      "localhost | SUCCESS => {\r\n",
      "    \"changed\": false, \r\n",
      "    \"ping\": \"pong\"\r\n",
      "}\r\n",
      "192.168.60.13 | SUCCESS => {\r\n",
      "    \"changed\": false, \r\n",
      "    \"ping\": \"pong\"\r\n",
      "}\r\n"
     ]
    }
   ],
   "source": [
    "ansible all -m ping"
   ]
  },
  {
   "cell_type": "code",
   "execution_count": 25,
   "metadata": {
    "collapsed": false
   },
   "outputs": [
    {
     "name": "stdout",
     "output_type": "stream",
     "text": [
      "    1  echo $?\r\n",
      "    2  ansible --version\r\n",
      "    3  echo $?\r\n",
      "    4  sudo pip install --upgrade ansible\r\n",
      "    5  echo $?\r\n",
      "    6  ansible --version\r\n",
      "    7  echo $?\r\n",
      "    8  ls -lachi /etc/ansible/\r\n",
      "    9  echo $?\r\n",
      "   10  sudo cp /vagrant/hosts /etc/ansible\r\n",
      "   11  echo $?\r\n",
      "   12  cat /etc/ansible/hosts\r\n",
      "   13  echo $?\r\n",
      "   14  ansible local -m ping\r\n",
      "   15  echo $?\r\n",
      "   16  if [ -f ~/.ssh/id_rsa ]; then rm ~/.ssh/id_rsa*; fi && ssh-keygen -t rsa -f ~/.ssh/id_rsa -N geheim\r\n",
      "   17  echo $?\r\n",
      "   18  ssh-keygen -R 192.168.60.2\r\n",
      "   19  echo $?\r\n",
      "   20  ssh-keygen -R 192.168.60.2\r\n",
      "   21  echo $?\r\n",
      "   22  ssh-keyscan -H 192.168.60.2 >> ~/.ssh/known_hosts\r\n",
      "   23  echo $?\r\n",
      "   24  cat ~/.ssh/known_hosts\r\n",
      "   25  echo $?\r\n",
      "   26  sudo apt-get update\r\n",
      "   27  sudo apt-get install -y sshpass\r\n",
      "   28  echo $?\r\n",
      "   29  echo 'vagrant' > passwort\r\n",
      "   30  sshpass -f passwort ssh-copy-id vagrant@192.168.60.2\r\n",
      "   31  echo $?\r\n",
      "   32  sudo apt-get install -y expect\r\n",
      "   33  echo $?\r\n",
      "   34  cp /vagrant/ssh-add-passphrase.sh ./\r\n",
      "   35  chmod u+x ssh-add-passphrase.sh\r\n",
      "   36  echo $?\r\n",
      "   37  cat ssh-add-passphrase.sh\r\n",
      "   38  echo $?\r\n",
      "   39  eval `ssh-agent -s` > /dev/null\r\n",
      "   40  ./ssh-add-passphrase.sh\r\n",
      "   41  echo $?\r\n",
      "   42  env\r\n",
      "   43  echo $?\r\n",
      "   44  ssh-add -l\r\n",
      "   45  echo $?\r\n",
      "   46  ansible lb -m ping\r\n",
      "   47  echo $?\r\n",
      "   48  for i in 11 12 13 21 22; do      ssh-keyscan -H 192.168.60.${i} >> ~/.ssh/known_hosts;     sshpass -f passwort ssh-copy-id vagrant@192.168.60.${i}; done\r\n",
      "   49  echo $?\r\n",
      "   50  ansible all -m ping\r\n",
      "   51  echo $?\r\n",
      "   52  history\r\n"
     ]
    }
   ],
   "source": [
    "history "
   ]
  },
  {
   "cell_type": "markdown",
   "metadata": {
    "collapsed": true
   },
   "source": [
    "Der Ansible Test funktioniert. Somit können wir wieter machen mit den Playbooks."
   ]
  }
 ],
 "metadata": {
  "kernelspec": {
   "display_name": "Bash",
   "language": "bash",
   "name": "bash"
  },
  "language_info": {
   "codemirror_mode": "shell",
   "file_extension": ".sh",
   "mimetype": "text/x-sh",
   "name": "bash"
  }
 },
 "nbformat": 4,
 "nbformat_minor": 1
}
